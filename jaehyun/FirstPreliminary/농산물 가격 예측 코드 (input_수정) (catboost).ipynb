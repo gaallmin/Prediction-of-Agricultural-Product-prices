{
 "cells": [
  {
   "cell_type": "code",
   "execution_count": 3,
   "id": "a9a8d937",
   "metadata": {
    "ExecuteTime": {
     "end_time": "2024-10-10T05:06:12.675191Z",
     "start_time": "2024-10-10T05:06:12.213613Z"
    }
   },
   "outputs": [],
   "source": [
    "from data_loader import data_loader_v1\n",
    "\n",
    "x_train, x_val, y_train, y_val = data_loader_v1(\"./dataset/train/train.csv\", output_size=1)"
   ]
  },
  {
   "cell_type": "code",
   "execution_count": 4,
   "id": "e256dbd2",
   "metadata": {
    "ExecuteTime": {
     "end_time": "2024-10-10T05:06:13.172937Z",
     "start_time": "2024-10-10T05:06:13.167131Z"
    }
   },
   "outputs": [],
   "source": [
    "from catboost import CatBoostRegressor\n",
    "\n",
    "jjjjjjjj"
   ]
  },
  {
   "cell_type": "code",
   "execution_count": 27,
   "id": "34269953",
   "metadata": {
    "ExecuteTime": {
     "end_time": "2024-10-08T15:13:47.842220Z",
     "start_time": "2024-10-08T15:13:47.836655Z"
    }
   },
   "outputs": [],
   "source": [
    "from xgboost import XGBRegressor\n",
    "\n",
    "xgb_params = {\n",
    "    'n_estimators': 1000,\n",
    "    'random_state': 2024,\n",
    "    \"learning_rate\": 0.01,\n",
    "    'max_depth': 10\n",
    "}"
   ]
  },
  {
   "cell_type": "code",
   "execution_count": 28,
   "id": "536b20e9",
   "metadata": {
    "ExecuteTime": {
     "end_time": "2024-10-08T15:13:48.453920Z",
     "start_time": "2024-10-08T15:13:48.293226Z"
    }
   },
   "outputs": [],
   "source": [
    "from sklearn.ensemble import VotingRegressor"
   ]
  },
  {
   "cell_type": "code",
   "execution_count": 5,
   "id": "76e58755",
   "metadata": {
    "ExecuteTime": {
     "end_time": "2024-10-10T05:07:10.163408Z",
     "start_time": "2024-10-10T05:06:16.053740Z"
    },
    "code_folding": []
   },
   "outputs": [
    {
     "name": "stdout",
     "output_type": "stream",
     "text": [
      "0:\tlearn: 129284.8397689\ttotal: 56ms\tremaining: 55.9s\n",
      "999:\tlearn: 224.2581003\ttotal: 3.98s\tremaining: 0us\n",
      "0:\tlearn: 14397.0522418\ttotal: 7.49ms\tremaining: 7.48s\n",
      "999:\tlearn: 12.8912030\ttotal: 5.3s\tremaining: 0us\n",
      "0:\tlearn: 6211.2534509\ttotal: 6.81ms\tremaining: 6.8s\n",
      "999:\tlearn: 14.7293540\ttotal: 5.17s\tremaining: 0us\n",
      "0:\tlearn: 26239.9381280\ttotal: 5.76ms\tremaining: 5.75s\n",
      "999:\tlearn: 296.5634010\ttotal: 4.09s\tremaining: 0us\n",
      "0:\tlearn: 5575.7622954\ttotal: 6.76ms\tremaining: 6.76s\n",
      "999:\tlearn: 1.9527895\ttotal: 5.63s\tremaining: 0us\n",
      "0:\tlearn: 397.8227900\ttotal: 6.21ms\tremaining: 6.21s\n",
      "999:\tlearn: 0.1532758\ttotal: 5.08s\tremaining: 0us\n",
      "0:\tlearn: 4326.9008554\ttotal: 8.13ms\tremaining: 8.12s\n",
      "999:\tlearn: 2.0668536\ttotal: 5.5s\tremaining: 0us\n",
      "0:\tlearn: 329.2509113\ttotal: 6.76ms\tremaining: 6.76s\n",
      "999:\tlearn: 0.1906828\ttotal: 5.52s\tremaining: 0us\n",
      "0:\tlearn: 961.4188243\ttotal: 10.8ms\tremaining: 10.8s\n",
      "999:\tlearn: 0.6808010\ttotal: 5.25s\tremaining: 0us\n",
      "0:\tlearn: 4671.6756164\ttotal: 6.77ms\tremaining: 6.76s\n",
      "999:\tlearn: 6.1575588\ttotal: 5.6s\tremaining: 0us\n"
     ]
    }
   ],
   "source": [
    "pred = {}\n",
    "models = {}\n",
    "for item in x_train.keys():\n",
    "    models[item] = CatBoostRegressor(**cat_params)\n",
    "    models[item].fit(x_train[item], y_train[item])\n",
    "    pred[item] = models[item].predict(x_val[item])"
   ]
  },
  {
   "cell_type": "code",
   "execution_count": 75,
   "id": "83320adb",
   "metadata": {
    "ExecuteTime": {
     "end_time": "2024-10-08T14:57:02.790792Z",
     "start_time": "2024-10-08T14:57:02.786053Z"
    }
   },
   "outputs": [],
   "source": [
    "submission = pd.read_csv('./sample_submission.csv')\n",
    "zeros = [1]*75\n",
    "submission['감자'] = zeros"
   ]
  },
  {
   "cell_type": "code",
   "execution_count": 76,
   "id": "559dcb01",
   "metadata": {
    "ExecuteTime": {
     "end_time": "2024-10-08T14:57:03.740463Z",
     "start_time": "2024-10-08T14:57:03.272023Z"
    }
   },
   "outputs": [],
   "source": [
    "data_case = [\n",
    "    [\"건고추\", \"화건\", \"30 kg\", \"상품\"],\n",
    "    [\"감자\", \"감자 수미\", \"20키로상자\", \"상\"],\n",
    "    [\"배\", \"신고\", \"10 개\", \"상품\"],\n",
    "    [\"깐마늘(국산)\", \"깐마늘(국산)\", \"20 kg\", \"상품\"],\n",
    "    [\"무\", \"무\", \"20키로상자\", \"상\"],\n",
    "    [\"상추\", \"청\", \"100 g\", \"상품\"],\n",
    "    [\"배추\", \"배추\", \"10키로망대\", \"상\"],\n",
    "    [\"양파\", \"양파\", \"1키로\", \"상\"],\n",
    "    [\"대파\", \"대파(일반)\", \"1키로단\", \"상\"]\n",
    "]\n",
    "\n",
    "pred = {'건고추': [], '감자': [], '배': [], '깐마늘(국산)': [], '무': [], '상추': [], '배추': [], '양파': [], '대파': []}\n",
    "\n",
    "for i in range(25):\n",
    "    time = f\"TEST_{str(i).zfill(2)}\"\n",
    "    test = pd.read_csv(f'./dataset/test/{time}.csv')\n",
    "\n",
    "    for case in range(9):\n",
    "        x = test.loc[(test['품목명'] == data_case[case][0]) & \n",
    "                 (test['품종명'] == data_case[case][1]) &\n",
    "                 (test['거래단위'] == data_case[case][2]) &\n",
    "                 (test['등급'] == data_case[case][3])]\n",
    "        x = x['평균가격(원)'].to_numpy()\n",
    "        pred[data_case[case][0]].append(models[case].predict(x))\n",
    "\n",
    "for case in range(9):\n",
    "    pred[data_case[case][0]] = np.array(pred[data_case[case][0]]).flatten()"
   ]
  },
  {
   "cell_type": "code",
   "execution_count": 77,
   "id": "8a91aa32",
   "metadata": {
    "ExecuteTime": {
     "end_time": "2024-10-08T14:57:03.941494Z",
     "start_time": "2024-10-08T14:57:03.792819Z"
    }
   },
   "outputs": [],
   "source": [
    "data_case = [\n",
    "    [\"사과\", \"홍로\", \"10 개\", \"상품\"],\n",
    "    [\"사과\", \"후지\", \"10 개\", \"상품\"]\n",
    "]\n",
    "\n",
    "pred['사과'] = []\n",
    "for i in range(25):\n",
    "    time = f\"TEST_{str(i).zfill(2)}\"\n",
    "    test = pd.read_csv(f'./dataset/test/{time}.csv')\n",
    "    \n",
    "    x = test.loc[(test['품목명'] == '사과') & \n",
    "             ((test['품종명'] == '홍로') | (test['품종명'] == '후지')) &\n",
    "             (test['거래단위'] == '10 개') &\n",
    "             (test['등급'] == '상품')]\n",
    "\n",
    "    x = x['평균가격(원)'].to_numpy()\n",
    "    pred['사과'].append(models[9].predict(x))\n",
    "        \n",
    "pred['사과'] = np.array(pred['사과']).flatten()"
   ]
  },
  {
   "cell_type": "code",
   "execution_count": 78,
   "id": "33974a40",
   "metadata": {
    "ExecuteTime": {
     "end_time": "2024-10-08T14:57:04.728402Z",
     "start_time": "2024-10-08T14:57:04.720536Z"
    }
   },
   "outputs": [],
   "source": [
    "for key in pred.keys():\n",
    "    submission[key] = pred[key]"
   ]
  },
  {
   "cell_type": "code",
   "execution_count": 79,
   "id": "e415cbe4",
   "metadata": {
    "ExecuteTime": {
     "end_time": "2024-10-08T14:57:05.099235Z",
     "start_time": "2024-10-08T14:57:05.071766Z"
    }
   },
   "outputs": [
    {
     "data": {
      "text/html": [
       "<div>\n",
       "<style scoped>\n",
       "    .dataframe tbody tr th:only-of-type {\n",
       "        vertical-align: middle;\n",
       "    }\n",
       "\n",
       "    .dataframe tbody tr th {\n",
       "        vertical-align: top;\n",
       "    }\n",
       "\n",
       "    .dataframe thead th {\n",
       "        text-align: right;\n",
       "    }\n",
       "</style>\n",
       "<table border=\"1\" class=\"dataframe\">\n",
       "  <thead>\n",
       "    <tr style=\"text-align: right;\">\n",
       "      <th></th>\n",
       "      <th>시점</th>\n",
       "      <th>감자</th>\n",
       "      <th>건고추</th>\n",
       "      <th>깐마늘(국산)</th>\n",
       "      <th>대파</th>\n",
       "      <th>무</th>\n",
       "      <th>배추</th>\n",
       "      <th>사과</th>\n",
       "      <th>상추</th>\n",
       "      <th>양파</th>\n",
       "      <th>배</th>\n",
       "    </tr>\n",
       "  </thead>\n",
       "  <tbody>\n",
       "    <tr>\n",
       "      <th>0</th>\n",
       "      <td>TEST_00+1순</td>\n",
       "      <td>27384.443731</td>\n",
       "      <td>721644.251881</td>\n",
       "      <td>37881.535138</td>\n",
       "      <td>1911.231245</td>\n",
       "      <td>85398.392488</td>\n",
       "      <td>1265.046447</td>\n",
       "      <td>3836.054177</td>\n",
       "      <td>8290.623370</td>\n",
       "      <td>3748.660936</td>\n",
       "      <td>40167.719484</td>\n",
       "    </tr>\n",
       "    <tr>\n",
       "      <th>1</th>\n",
       "      <td>TEST_00+2순</td>\n",
       "      <td>27650.126980</td>\n",
       "      <td>706412.568276</td>\n",
       "      <td>35875.972627</td>\n",
       "      <td>1863.571737</td>\n",
       "      <td>86799.540840</td>\n",
       "      <td>1039.900324</td>\n",
       "      <td>3679.636000</td>\n",
       "      <td>8346.885420</td>\n",
       "      <td>4759.107931</td>\n",
       "      <td>42769.478496</td>\n",
       "    </tr>\n",
       "    <tr>\n",
       "      <th>2</th>\n",
       "      <td>TEST_00+3순</td>\n",
       "      <td>28136.619614</td>\n",
       "      <td>696350.024464</td>\n",
       "      <td>35280.623467</td>\n",
       "      <td>1775.260664</td>\n",
       "      <td>93003.991957</td>\n",
       "      <td>908.436369</td>\n",
       "      <td>3509.590522</td>\n",
       "      <td>8339.541567</td>\n",
       "      <td>5539.914060</td>\n",
       "      <td>42940.029533</td>\n",
       "    </tr>\n",
       "    <tr>\n",
       "      <th>3</th>\n",
       "      <td>TEST_01+1순</td>\n",
       "      <td>27384.443731</td>\n",
       "      <td>621389.379107</td>\n",
       "      <td>37881.535138</td>\n",
       "      <td>1920.987364</td>\n",
       "      <td>85398.392488</td>\n",
       "      <td>1265.046447</td>\n",
       "      <td>3836.054177</td>\n",
       "      <td>8290.623370</td>\n",
       "      <td>3748.660936</td>\n",
       "      <td>26971.072549</td>\n",
       "    </tr>\n",
       "    <tr>\n",
       "      <th>4</th>\n",
       "      <td>TEST_01+2순</td>\n",
       "      <td>27650.126980</td>\n",
       "      <td>638090.892316</td>\n",
       "      <td>35875.972627</td>\n",
       "      <td>1952.844241</td>\n",
       "      <td>86799.540840</td>\n",
       "      <td>1039.900324</td>\n",
       "      <td>3679.636000</td>\n",
       "      <td>8346.885420</td>\n",
       "      <td>4759.107931</td>\n",
       "      <td>27871.195539</td>\n",
       "    </tr>\n",
       "    <tr>\n",
       "      <th>...</th>\n",
       "      <td>...</td>\n",
       "      <td>...</td>\n",
       "      <td>...</td>\n",
       "      <td>...</td>\n",
       "      <td>...</td>\n",
       "      <td>...</td>\n",
       "      <td>...</td>\n",
       "      <td>...</td>\n",
       "      <td>...</td>\n",
       "      <td>...</td>\n",
       "      <td>...</td>\n",
       "    </tr>\n",
       "    <tr>\n",
       "      <th>70</th>\n",
       "      <td>TEST_23+2순</td>\n",
       "      <td>27650.126980</td>\n",
       "      <td>637912.277516</td>\n",
       "      <td>35875.972627</td>\n",
       "      <td>1960.560592</td>\n",
       "      <td>86799.540840</td>\n",
       "      <td>1039.900324</td>\n",
       "      <td>3679.636000</td>\n",
       "      <td>8346.885420</td>\n",
       "      <td>4759.107931</td>\n",
       "      <td>31822.895381</td>\n",
       "    </tr>\n",
       "    <tr>\n",
       "      <th>71</th>\n",
       "      <td>TEST_23+3순</td>\n",
       "      <td>28136.619614</td>\n",
       "      <td>624551.531758</td>\n",
       "      <td>35280.623467</td>\n",
       "      <td>1731.340778</td>\n",
       "      <td>93003.991957</td>\n",
       "      <td>908.436369</td>\n",
       "      <td>3509.590522</td>\n",
       "      <td>8339.541567</td>\n",
       "      <td>5539.914060</td>\n",
       "      <td>31722.331906</td>\n",
       "    </tr>\n",
       "    <tr>\n",
       "      <th>72</th>\n",
       "      <td>TEST_24+1순</td>\n",
       "      <td>27384.443731</td>\n",
       "      <td>476690.101100</td>\n",
       "      <td>37881.535138</td>\n",
       "      <td>1551.872183</td>\n",
       "      <td>85398.392488</td>\n",
       "      <td>1265.046447</td>\n",
       "      <td>3836.054177</td>\n",
       "      <td>8290.623370</td>\n",
       "      <td>3748.660936</td>\n",
       "      <td>39137.786148</td>\n",
       "    </tr>\n",
       "    <tr>\n",
       "      <th>73</th>\n",
       "      <td>TEST_24+2순</td>\n",
       "      <td>27650.126980</td>\n",
       "      <td>473009.428343</td>\n",
       "      <td>35875.972627</td>\n",
       "      <td>1634.368397</td>\n",
       "      <td>86799.540840</td>\n",
       "      <td>1039.900324</td>\n",
       "      <td>3679.636000</td>\n",
       "      <td>8346.885420</td>\n",
       "      <td>4759.107931</td>\n",
       "      <td>42639.282959</td>\n",
       "    </tr>\n",
       "    <tr>\n",
       "      <th>74</th>\n",
       "      <td>TEST_24+3순</td>\n",
       "      <td>28136.619614</td>\n",
       "      <td>469062.131437</td>\n",
       "      <td>35280.623467</td>\n",
       "      <td>1632.748647</td>\n",
       "      <td>93003.991957</td>\n",
       "      <td>908.436369</td>\n",
       "      <td>3509.590522</td>\n",
       "      <td>8339.541567</td>\n",
       "      <td>5539.914060</td>\n",
       "      <td>45023.897882</td>\n",
       "    </tr>\n",
       "  </tbody>\n",
       "</table>\n",
       "<p>75 rows × 11 columns</p>\n",
       "</div>"
      ],
      "text/plain": [
       "            시점            감자            건고추       깐마늘(국산)           대파  \\\n",
       "0   TEST_00+1순  27384.443731  721644.251881  37881.535138  1911.231245   \n",
       "1   TEST_00+2순  27650.126980  706412.568276  35875.972627  1863.571737   \n",
       "2   TEST_00+3순  28136.619614  696350.024464  35280.623467  1775.260664   \n",
       "3   TEST_01+1순  27384.443731  621389.379107  37881.535138  1920.987364   \n",
       "4   TEST_01+2순  27650.126980  638090.892316  35875.972627  1952.844241   \n",
       "..         ...           ...            ...           ...          ...   \n",
       "70  TEST_23+2순  27650.126980  637912.277516  35875.972627  1960.560592   \n",
       "71  TEST_23+3순  28136.619614  624551.531758  35280.623467  1731.340778   \n",
       "72  TEST_24+1순  27384.443731  476690.101100  37881.535138  1551.872183   \n",
       "73  TEST_24+2순  27650.126980  473009.428343  35875.972627  1634.368397   \n",
       "74  TEST_24+3순  28136.619614  469062.131437  35280.623467  1632.748647   \n",
       "\n",
       "               무           배추           사과           상추           양파  \\\n",
       "0   85398.392488  1265.046447  3836.054177  8290.623370  3748.660936   \n",
       "1   86799.540840  1039.900324  3679.636000  8346.885420  4759.107931   \n",
       "2   93003.991957   908.436369  3509.590522  8339.541567  5539.914060   \n",
       "3   85398.392488  1265.046447  3836.054177  8290.623370  3748.660936   \n",
       "4   86799.540840  1039.900324  3679.636000  8346.885420  4759.107931   \n",
       "..           ...          ...          ...          ...          ...   \n",
       "70  86799.540840  1039.900324  3679.636000  8346.885420  4759.107931   \n",
       "71  93003.991957   908.436369  3509.590522  8339.541567  5539.914060   \n",
       "72  85398.392488  1265.046447  3836.054177  8290.623370  3748.660936   \n",
       "73  86799.540840  1039.900324  3679.636000  8346.885420  4759.107931   \n",
       "74  93003.991957   908.436369  3509.590522  8339.541567  5539.914060   \n",
       "\n",
       "               배  \n",
       "0   40167.719484  \n",
       "1   42769.478496  \n",
       "2   42940.029533  \n",
       "3   26971.072549  \n",
       "4   27871.195539  \n",
       "..           ...  \n",
       "70  31822.895381  \n",
       "71  31722.331906  \n",
       "72  39137.786148  \n",
       "73  42639.282959  \n",
       "74  45023.897882  \n",
       "\n",
       "[75 rows x 11 columns]"
      ]
     },
     "execution_count": 79,
     "metadata": {},
     "output_type": "execute_result"
    }
   ],
   "source": [
    "submission"
   ]
  },
  {
   "cell_type": "code",
   "execution_count": 80,
   "id": "91b6e24a",
   "metadata": {
    "ExecuteTime": {
     "end_time": "2024-10-08T14:57:05.925657Z",
     "start_time": "2024-10-08T14:57:05.914992Z"
    }
   },
   "outputs": [],
   "source": [
    "submission.to_csv('submit.csv', index=False)"
   ]
  }
 ],
 "metadata": {
  "kernelspec": {
   "display_name": "PoAP",
   "language": "python",
   "name": "poap"
  },
  "language_info": {
   "codemirror_mode": {
    "name": "ipython",
    "version": 3
   },
   "file_extension": ".py",
   "mimetype": "text/x-python",
   "name": "python",
   "nbconvert_exporter": "python",
   "pygments_lexer": "ipython3",
   "version": "3.12.7"
  },
  "toc": {
   "base_numbering": 1,
   "nav_menu": {},
   "number_sections": false,
   "sideBar": true,
   "skip_h1_title": false,
   "title_cell": "Table of Contents",
   "title_sidebar": "Contents",
   "toc_cell": false,
   "toc_position": {},
   "toc_section_display": true,
   "toc_window_display": false
  }
 },
 "nbformat": 4,
 "nbformat_minor": 5
}
