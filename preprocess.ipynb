{
 "cells": [
  {
   "cell_type": "markdown",
   "metadata": {},
   "source": [
    "1. 결측치 확인\n",
    "결측치의 종류 확인\n",
    "-> 결측치 대체 방법을 적절히 사용하기 위함 \n",
    "\n",
    "결측치 대체 방법이 중요한 이유 -> 원본 데이터를 쉽게 '단순 대치법'을 사용하여 건드리고 싶지 않기 때문\n",
    "\n",
    "train.csv 의 행은 3만개 정도 존재\n",
    "\n",
    "각 칼럼별 결측치 비율을 보고 어떻게 처리 할지 고민\n",
    "\n",
    "\n"
   ]
  },
  {
   "cell_type": "code",
   "execution_count": 2,
   "metadata": {},
   "outputs": [],
   "source": [
    "import pandas as pd\n",
    "\n",
    "# train - train.csv\n",
    "df = pd.read_csv(r\"dataview\\data\\train\\train.csv\", encoding = \"utf-8\")"
   ]
  },
  {
   "cell_type": "code",
   "execution_count": 7,
   "metadata": {},
   "outputs": [
    {
     "data": {
      "text/plain": [
       "시점             object\n",
       "품목명            object\n",
       "품종명            object\n",
       "거래단위           object\n",
       "등급             object\n",
       "평년 평균가격(원)    float64\n",
       "평균가격(원)       float64\n",
       "dtype: object"
      ]
     },
     "execution_count": 7,
     "metadata": {},
     "output_type": "execute_result"
    }
   ],
   "source": [
    "df.dtypes"
   ]
  },
  {
   "cell_type": "code",
   "execution_count": 9,
   "metadata": {},
   "outputs": [
    {
     "name": "stdout",
     "output_type": "stream",
     "text": [
      "열별 결측치 개수:\n",
      "시점                0\n",
      "품목명               0\n",
      "품종명               0\n",
      "거래단위              0\n",
      "등급                0\n",
      "평년 평균가격(원)    21860\n",
      "평균가격(원)       12713\n",
      "dtype: int64\n",
      "\n",
      "열별 결측치 비율:\n",
      "시점            0.000000\n",
      "품목명           0.000000\n",
      "품종명           0.000000\n",
      "거래단위          0.000000\n",
      "등급            0.000000\n",
      "평년 평균가격(원)    0.744145\n",
      "평균가격(원)       0.432768\n",
      "dtype: float64\n",
      "\n",
      "결측치가 포함된 행:\n",
      "             시점  품목명     품종명    거래단위  등급  평년 평균가격(원)   평균가격(원)\n",
      "95     202008하순  건고추      화건   30 kg  상품         NaN  703571.0\n",
      "131    202108하순  건고추      화건   30 kg  상품         NaN  602000.0\n",
      "144    201801상순  건고추    햇산양건   30 kg  상품         NaN       NaN\n",
      "145    201801중순  건고추    햇산양건   30 kg  상품         NaN       NaN\n",
      "146    201801하순  건고추    햇산양건   30 kg  상품         NaN       NaN\n",
      "...         ...  ...     ...     ...  ..         ...       ...\n",
      "29371  202111중순   대파  대파(일반)  10키로묶음   상         NaN       NaN\n",
      "29372  202111하순   대파  대파(일반)  10키로묶음   상         NaN       NaN\n",
      "29373  202112상순   대파  대파(일반)  10키로묶음   상         NaN       NaN\n",
      "29374  202112중순   대파  대파(일반)  10키로묶음   상         NaN       NaN\n",
      "29375  202112하순   대파  대파(일반)  10키로묶음   상         NaN       NaN\n",
      "\n",
      "[21860 rows x 7 columns]\n",
      "\n",
      "결측치로 취급된 값들의 종류 확인:\n",
      "{'시점': 0, '품목명': 0, '품종명': 0, '거래단위': 0, '등급': 0, '평년 평균가격(원)': 21860, '평균가격(원)': 12713}\n"
     ]
    }
   ],
   "source": [
    "import numpy as np\n",
    "\n",
    "# 결측치로 처리할 다양한 값 지정 (0 포함)\n",
    "na_values = ['', 'N/A', 'missing', '-', None, np.nan, 0]\n",
    "\n",
    "# 결측치로 정의한 값들을 실제로 결측치로 변환\n",
    "df.replace(na_values, np.nan, inplace=True)\n",
    "\n",
    "# 1. 결측치 확인 (열별 결측치 개수)\n",
    "print(\"열별 결측치 개수:\")\n",
    "print(df.isnull().sum())\n",
    "\n",
    "# 2. 결측치 비율 확인\n",
    "print(\"\\n열별 결측치 비율:\")\n",
    "print(df.isnull().mean())\n",
    "\n",
    "# 3. 결측치가 있는 행만 확인\n",
    "print(\"\\n결측치가 포함된 행:\")\n",
    "print(df[df.isnull().any(axis=1)])\n",
    "\n",
    "# 4. 결측치 종류 분석\n",
    "print(\"\\n결측치로 취급된 값들의 종류 확인:\")\n",
    "unique_na_values = {col: df[col].isnull().sum() for col in df.columns}\n",
    "print(unique_na_values)"
   ]
  }
 ],
 "metadata": {
  "kernelspec": {
   "display_name": "base",
   "language": "python",
   "name": "python3"
  },
  "language_info": {
   "codemirror_mode": {
    "name": "ipython",
    "version": 3
   },
   "file_extension": ".py",
   "mimetype": "text/x-python",
   "name": "python",
   "nbconvert_exporter": "python",
   "pygments_lexer": "ipython3",
   "version": "3.11.5"
  }
 },
 "nbformat": 4,
 "nbformat_minor": 2
}
