{
 "cells": [
  {
   "cell_type": "code",
   "execution_count": 2,
   "metadata": {},
   "outputs": [
    {
     "name": "stdout",
     "output_type": "stream",
     "text": [
      "파일이 성공적으로 업데이트되었습니다. '평년평균_업데이트.csv'를 확인하세요.\n"
     ]
    }
   ],
   "source": [
    "import pandas as pd\n",
    "\n",
    "# 평년평균.csv 파일 읽기\n",
    "df_pyeongnyeon = pd.read_csv('평년평균.csv', encoding='utf-8')\n",
    "\n",
    "# 평균.csv 파일 읽기\n",
    "df_pyeonggyun = pd.read_csv('평균가격.csv', encoding='utf-8')\n",
    "\n",
    "# 두 데이터프레임의 인덱스가 같은지 확인\n",
    "if df_pyeongnyeon.shape[0] != df_pyeonggyun.shape[0]:\n",
    "    print(\"Warning: 두 파일의 행 수가 다릅니다. 결과를 주의해서 확인하세요.\")\n",
    "\n",
    "# '평균가격(원)' 열 업데이트\n",
    "df_pyeongnyeon['평균가격(원)'] = df_pyeonggyun['평균가격(원)']\n",
    "\n",
    "# 결과를 새 파일로 저장\n",
    "df_pyeongnyeon.to_csv('평년평균_업데이트.csv', index=False, encoding='utf-8')\n",
    "\n",
    "print(\"파일이 성공적으로 업데이트되었습니다. '평년평균_업데이트.csv'를 확인하세요.\")"
   ]
  }
 ],
 "metadata": {
  "kernelspec": {
   "display_name": "base",
   "language": "python",
   "name": "python3"
  },
  "language_info": {
   "codemirror_mode": {
    "name": "ipython",
    "version": 3
   },
   "file_extension": ".py",
   "mimetype": "text/x-python",
   "name": "python",
   "nbconvert_exporter": "python",
   "pygments_lexer": "ipython3",
   "version": "3.11.5"
  }
 },
 "nbformat": 4,
 "nbformat_minor": 2
}
