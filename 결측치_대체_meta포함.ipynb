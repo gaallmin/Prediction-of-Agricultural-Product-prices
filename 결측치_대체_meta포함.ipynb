{
  "nbformat": 4,
  "nbformat_minor": 0,
  "metadata": {
    "colab": {
      "provenance": [],
      "authorship_tag": "ABX9TyP0JqUJXXav8haWTYv5T6Es",
      "include_colab_link": true
    },
    "kernelspec": {
      "name": "python3",
      "display_name": "Python 3"
    },
    "language_info": {
      "name": "python"
    }
  },
  "cells": [
    {
      "cell_type": "markdown",
      "metadata": {
        "id": "view-in-github",
        "colab_type": "text"
      },
      "source": [
        "<a href=\"https://colab.research.google.com/github/gaallmin/Prediction-of-Agricultural-Product-prices/blob/yeji/%EA%B2%B0%EC%B8%A1%EC%B9%98_%EB%8C%80%EC%B2%B4_meta%ED%8F%AC%ED%95%A8.ipynb\" target=\"_parent\"><img src=\"https://colab.research.google.com/assets/colab-badge.svg\" alt=\"Open In Colab\"/></a>"
      ]
    },
    {
      "cell_type": "code",
      "execution_count": 1,
      "metadata": {
        "colab": {
          "base_uri": "https://localhost:8080/"
        },
        "id": "1ytQ8iZS6Qp1",
        "outputId": "cc29a78d-8d0a-41a0-c963-bb3e8809f4ef"
      },
      "outputs": [
        {
          "output_type": "stream",
          "name": "stdout",
          "text": [
            "Mounted at /content/drive/\n",
            "/content/drive/MyDrive/Dacon\n"
          ]
        }
      ],
      "source": [
        "from google.colab import drive\n",
        "\n",
        "drive.mount('/content/drive/')\n",
        "%cd /content/drive/MyDrive/Dacon"
      ]
    },
    {
      "cell_type": "code",
      "source": [
        "import pandas as pd\n",
        "\n",
        "train_file_path = './train/train.csv'\n",
        "market_file_path = './train/meta/TRAIN_전국도매_2018-2021.csv'\n",
        "sanjae_file_path = './train/meta/TRAIN_산지공판장_2018-2021.csv'\n",
        "\n",
        "train_df = pd.read_csv(train_file_path)\n",
        "market_df = pd.read_csv(market_file_path)\n",
        "sanjae_df = pd.read_csv(sanjae_file_path)"
      ],
      "metadata": {
        "id": "z5cXI_gV6UkZ"
      },
      "execution_count": 5,
      "outputs": []
    },
    {
      "cell_type": "code",
      "source": [
        "import re\n",
        "\n",
        "# '시장명'이 \"전국도매시장\"인 경우만 필터링\n",
        "market_df = market_df[market_df['시장명'].str.contains('전국도매시장')]\n",
        "\n",
        "# '공판장명'이 \"전국농협공판장\"인 경우만 필터링\n",
        "sanjae_df = sanjae_df[sanjae_df['공판장명'].str.contains('전국농협공판장')]\n",
        "\n",
        "sanjae_df.rename(columns = {'등급명': '등급'}, inplace = True)\n",
        "\n",
        "# 컬럼명 변경 (도매 데이터의 컬럼들에 '(도매)', 산지 데이터의 컬럼들에 '(산지)' 추가)\n",
        "market_columns = market_df.columns.difference(['시점', '품목명', '품종명'])  # 키 컬럼 제외\n",
        "market_renamed = {col: col + ' (도매)' for col in market_columns}\n",
        "\n",
        "sanjae_columns = sanjae_df.columns.difference(['시점', '품목명', '품종명', '등급'])  # 키 컬럼 제외\n",
        "sanjae_renamed = {col: col + ' (산지)' for col in sanjae_columns}\n",
        "\n",
        "# 컬럼명 변경 적용\n",
        "market_df.rename(columns={**market_renamed}, inplace=True)\n",
        "sanjae_df.rename(columns={**sanjae_renamed}, inplace=True)\n",
        "\n",
        "# '시점', '품목명', '품종명' 기준으로 market_df와 left join, '등급명'은 train_df에만 존재\n",
        "merged_df = pd.merge(train_df, market_df, how='left', on=['시점', '품목명', '품종명'])\n",
        "\n",
        "# '시점', '품목명', '품종명', '등급명' 기준으로 sanjae_df와 left join\n",
        "merged_sanjae_df = pd.merge(merged_df, sanjae_df, how='left', on=['시점', '품목명', '품종명', '등급'])\n",
        "\n",
        "# '거래단위'에서 'kg'을 제외한 숫자만 추출하여 새로운 컬럼 '거래단위_숫자' 생성\n",
        "merged_sanjae_df['거래단위_숫자'] = merged_sanjae_df['거래단위'].apply(lambda x: float(re.sub(r'[^0-9.]', ' ', x)))\n",
        "\n",
        "# '거래단위'에서 '5톤트럭'과 '8톤트럭' 처리\n",
        "def process_truck_units(unit):\n",
        "    if '5톤트럭' in unit:\n",
        "        return 5000\n",
        "    elif '8톤트럭' in unit:\n",
        "        return 8000\n",
        "    else:\n",
        "        return float(re.sub(r'[^0-9.]', '', unit))  # 그 외의 경우 숫자만 추출\n",
        "\n",
        "merged_sanjae_df['거래단위_숫자'] = merged_sanjae_df['거래단위'].apply(process_truck_units)\n",
        "\n",
        "\n",
        "# '평균가(원/kg)'와 '거래단위_숫자'를 곱해서 '거래금액(도매)' 및 '거래금액(산지)' 컬럼에 저장\n",
        "merged_sanjae_df['거래금액(도매)'] = merged_sanjae_df['평균가(원/kg) (도매)'] * merged_sanjae_df['거래단위_숫자']\n",
        "merged_sanjae_df['거래금액(산지)'] = merged_sanjae_df['평균가(원/kg) (산지)'] * merged_sanjae_df['거래단위_숫자']\n",
        "\n",
        "# '거래금액(도매)'와 '거래금액(산지)'에서 값이 없거나 0인 경우 0으로 처리\n",
        "merged_sanjae_df['거래금액(도매)'] = merged_sanjae_df['거래금액(도매)'].fillna(0)\n",
        "merged_sanjae_df['거래금액(도매)'] = merged_sanjae_df['거래금액(도매)'].apply(lambda x: 0 if x == 0 or pd.isna(x) else x)\n",
        "\n",
        "merged_sanjae_df['거래금액(산지)'] = merged_sanjae_df['거래금액(산지)'].fillna(0)\n",
        "merged_sanjae_df['거래금액(산지)'] = merged_sanjae_df['거래금액(산지)'].apply(lambda x: 0 if x == 0 or pd.isna(x) else x)\n"
      ],
      "metadata": {
        "colab": {
          "base_uri": "https://localhost:8080/"
        },
        "id": "zc_MmnvD6dv_",
        "outputId": "edc3b9b8-c5da-45f3-ed79-6a3b12b447f1"
      },
      "execution_count": 6,
      "outputs": [
        {
          "output_type": "stream",
          "name": "stderr",
          "text": [
            "<ipython-input-6-23997021a5d0>:9: SettingWithCopyWarning: \n",
            "A value is trying to be set on a copy of a slice from a DataFrame\n",
            "\n",
            "See the caveats in the documentation: https://pandas.pydata.org/pandas-docs/stable/user_guide/indexing.html#returning-a-view-versus-a-copy\n",
            "  sanjae_df.rename(columns = {'등급명': '등급'}, inplace = True)\n",
            "<ipython-input-6-23997021a5d0>:19: SettingWithCopyWarning: \n",
            "A value is trying to be set on a copy of a slice from a DataFrame\n",
            "\n",
            "See the caveats in the documentation: https://pandas.pydata.org/pandas-docs/stable/user_guide/indexing.html#returning-a-view-versus-a-copy\n",
            "  market_df.rename(columns={**market_renamed}, inplace=True)\n",
            "<ipython-input-6-23997021a5d0>:20: SettingWithCopyWarning: \n",
            "A value is trying to be set on a copy of a slice from a DataFrame\n",
            "\n",
            "See the caveats in the documentation: https://pandas.pydata.org/pandas-docs/stable/user_guide/indexing.html#returning-a-view-versus-a-copy\n",
            "  sanjae_df.rename(columns={**sanjae_renamed}, inplace=True)\n"
          ]
        }
      ]
    },
    {
      "cell_type": "code",
      "source": [
        "import pandas as pd\n",
        "\n",
        "# 품종 쌍과 거래단위를 설정\n",
        "product_pairs = [\n",
        "    ('양파', '20키로', '양파', '10키로'),\n",
        "    ('양파', '12키로', '양파(햇)', '12키로'),\n",
        "    ('양파', '15키로', '양파(햇)', '15키로'),\n",
        "    ('양파', '20키로', '양파(햇)', '20키로'),\n",
        "    ('양파', '15키로', '저장양파', '15키로'),\n",
        "    ('양파', '12키로', '저장양파', '12키로'),\n",
        "    ('양파', '20키로', '저장양파', '20키로'),\n",
        "    ('양파', '12키로', '조생양파', '12키로'),\n",
        "    ('양파', '15키로', '조생양파', '15키로'),\n",
        "    ('감자 수미', '20키로상자', '감자', '20키로상자'),\n",
        "    ('감자 수미', '20키로상자', '감자 대지', '20키로상자'),\n",
        "    ('감자 수미', '20키로상자', '감자 두백', '20키로상자'),\n",
        "    ('감자 수미', '20키로상자', '감자 수미(저장)', '20키로상자'),\n",
        "    ('감자 수미', '20키로상자', '감자 수미(햇)', '20키로상자'),\n",
        "    ('감자 수미', '20키로상자', '감자 수입', '23키로상자'),\n",
        "    ('감자 수미', '20키로상자', '감자 조풍', '20키로상자'),\n",
        "    ('감자 수미', '20키로상자', '홍감자', '10키로상자'),\n",
        "    ('화건', '30 kg', '햇산화건', '30 kg'),\n",
        "    ('양건', '30 kg', '햇산양건', '30 kg'),\n",
        "    ('실파', '20키로', '쪽파', '10키로상자'),\n",
        "    ('쪽파', '10키로상자', '대파 수입', '10키로묶음'),\n",
        "    ('쪽파', '10키로상자', '대파(일반)', '10키로묶음'),\n",
        "    ('쪽파', '10키로상자', '대파(일반)', '1키로단'),\n",
        "    ('무', '20키로상자', '무', '18키로상자(비닐포)'),\n",
        "    ('무', '20키로상자', '다발무', '5톤트럭'),\n",
        "    ('신고', '10 개', '원황', '10 개'),\n",
        "    ('봄동배추', '15키로상자', '절임배추', '20키로상자'),\n",
        "    ('쌈배추', '8키로상자', '쌈배추', '1키로상자'),\n",
        "    ('얼갈이배추', '4키로상자', '얼갈이배추', '8키로상자'),\n",
        "    ('후지', '10 개', '쓰가루', '10 개')\n",
        "]\n",
        "\n",
        "# 가격 컬럼 리스트\n",
        "price_columns = ['평균가격(원)', '평년 평균가격(원)', '거래금액(도매)', '거래금액(산지)']\n",
        "\n",
        "# 평균 비율을 계산하는 함수 (거래단위를 포함)\n",
        "def calculate_mean_ratio(df1, df2, price_col):\n",
        "    # '시점', '등급', '거래단위'를 기준으로 inner join\n",
        "    merged_df = pd.merge(df1[['시점', price_col, '등급', '거래단위']],\n",
        "                         df2[['시점', price_col, '등급', '거래단위']],\n",
        "                         on=['시점', '등급', '거래단위'], suffixes=('_1', '_2'), how='inner')\n",
        "\n",
        "    # 두 품종의 가격이 모두 0이 아닌 경우만 사용\n",
        "    valid_rows = merged_df[(merged_df[f'{price_col}_1'] != 0) & (merged_df[f'{price_col}_2'] != 0)]\n",
        "\n",
        "    # 비율 계산 및 평균 비율 구하기\n",
        "    valid_rows['비율'] = valid_rows[f'{price_col}_1'] / valid_rows[f'{price_col}_2']\n",
        "    mean_ratio = valid_rows['비율'].mean()\n",
        "\n",
        "    return mean_ratio\n",
        "\n",
        "# 0인 값을 대체하는 함수 (평균 비율을 사용)\n",
        "def replace_zero_in_train(row, mean_ratio, product_1, unit_1, product_2, unit_2, price_col):\n",
        "    if row['품종명'] == product_1 and row['거래단위'] == unit_1:\n",
        "        # 같은 시점, 등급, 거래단위의 다른 품종 가격 가져오기\n",
        "        matching_row = merged_sanjae_df[(merged_sanjae_df['시점'] == row['시점']) &\n",
        "                                (merged_sanjae_df['품종명'] == product_2) &\n",
        "                                (merged_sanjae_df['등급'] == row['등급']) &\n",
        "                                (merged_sanjae_df['거래단위'] == unit_2)]\n",
        "        if not matching_row.empty:\n",
        "            other_price = matching_row[price_col].values[0]\n",
        "            if row[price_col] == 0 and other_price != 0:\n",
        "                row[price_col] = other_price * mean_ratio\n",
        "    elif row['품종명'] == product_2 and row['거래단위'] == unit_2:\n",
        "        # 같은 시점, 등급, 거래단위의 첫 번째 품종 가격 가져오기\n",
        "        matching_row = merged_sanjae_df[(merged_sanjae_df['시점'] == row['시점']) &\n",
        "                                (merged_sanjae_df['품종명'] == product_1) &\n",
        "                                (merged_sanjae_df['등급'] == row['등급']) &\n",
        "                                (merged_sanjae_df['거래단위'] == unit_1)]\n",
        "        if not matching_row.empty:\n",
        "            other_price = matching_row[price_col].values[0]\n",
        "            if row[price_col] == 0 and other_price != 0:\n",
        "                row[price_col] = other_price / mean_ratio\n",
        "    return row\n",
        "\n",
        "# 각 품종 쌍과 가격 컬럼에 대해 처리 적용\n",
        "for product_1, unit_1, product_2, unit_2 in product_pairs:\n",
        "    for price_col in price_columns:\n",
        "        # 해당 품종과 거래단위 필터링\n",
        "        df1 = merged_sanjae_df[(merged_sanjae_df['품종명'] == product_1) & (merged_sanjae_df['거래단위'] == unit_1)]\n",
        "        df2 = merged_sanjae_df[(merged_sanjae_df['품종명'] == product_2) & (merged_sanjae_df['거래단위'] == unit_2)]\n",
        "\n",
        "        # 평균 비율 계산\n",
        "        mean_ratio = calculate_mean_ratio(df1, df2, price_col)\n",
        "        print(f\"{product_1}({unit_1}) - {product_2}({unit_2})의 {price_col}에 대한 평균 비율: {mean_ratio}\")\n",
        "\n",
        "        # 0인 값을 평균 비율로 대체\n",
        "        merged_sanjae_df = merged_sanjae_df.apply(replace_zero_in_train, axis=1, mean_ratio=mean_ratio,\n",
        "                                  product_1=product_1, unit_1=unit_1,\n",
        "                                  product_2=product_2, unit_2=unit_2,\n",
        "                                  price_col=price_col)\n"
      ],
      "metadata": {
        "colab": {
          "base_uri": "https://localhost:8080/"
        },
        "id": "fpf_R2tF6Vg9",
        "outputId": "62f4dc5e-42bf-46af-f025-59d8c106dacf"
      },
      "execution_count": 7,
      "outputs": [
        {
          "output_type": "stream",
          "name": "stdout",
          "text": [
            "양파(20키로) - 양파(10키로)의 평균가격(원)에 대한 평균 비율: nan\n",
            "양파(20키로) - 양파(10키로)의 평년 평균가격(원)에 대한 평균 비율: nan\n",
            "양파(20키로) - 양파(10키로)의 거래금액(도매)에 대한 평균 비율: nan\n",
            "양파(20키로) - 양파(10키로)의 거래금액(산지)에 대한 평균 비율: nan\n"
          ]
        },
        {
          "output_type": "stream",
          "name": "stderr",
          "text": [
            "<ipython-input-7-7d7278b01e1d>:51: SettingWithCopyWarning: \n",
            "A value is trying to be set on a copy of a slice from a DataFrame.\n",
            "Try using .loc[row_indexer,col_indexer] = value instead\n",
            "\n",
            "See the caveats in the documentation: https://pandas.pydata.org/pandas-docs/stable/user_guide/indexing.html#returning-a-view-versus-a-copy\n",
            "  valid_rows['비율'] = valid_rows[f'{price_col}_1'] / valid_rows[f'{price_col}_2']\n"
          ]
        },
        {
          "output_type": "stream",
          "name": "stdout",
          "text": [
            "양파(12키로) - 양파(햇)(12키로)의 평균가격(원)에 대한 평균 비율: 1.0126329222765227\n",
            "양파(12키로) - 양파(햇)(12키로)의 평년 평균가격(원)에 대한 평균 비율: nan\n",
            "양파(12키로) - 양파(햇)(12키로)의 거래금액(도매)에 대한 평균 비율: nan\n",
            "양파(12키로) - 양파(햇)(12키로)의 거래금액(산지)에 대한 평균 비율: nan\n"
          ]
        },
        {
          "output_type": "stream",
          "name": "stderr",
          "text": [
            "<ipython-input-7-7d7278b01e1d>:51: SettingWithCopyWarning: \n",
            "A value is trying to be set on a copy of a slice from a DataFrame.\n",
            "Try using .loc[row_indexer,col_indexer] = value instead\n",
            "\n",
            "See the caveats in the documentation: https://pandas.pydata.org/pandas-docs/stable/user_guide/indexing.html#returning-a-view-versus-a-copy\n",
            "  valid_rows['비율'] = valid_rows[f'{price_col}_1'] / valid_rows[f'{price_col}_2']\n"
          ]
        },
        {
          "output_type": "stream",
          "name": "stdout",
          "text": [
            "양파(15키로) - 양파(햇)(15키로)의 평균가격(원)에 대한 평균 비율: 1.0011656821945343\n",
            "양파(15키로) - 양파(햇)(15키로)의 평년 평균가격(원)에 대한 평균 비율: nan\n",
            "양파(15키로) - 양파(햇)(15키로)의 거래금액(도매)에 대한 평균 비율: nan\n",
            "양파(15키로) - 양파(햇)(15키로)의 거래금액(산지)에 대한 평균 비율: nan\n"
          ]
        },
        {
          "output_type": "stream",
          "name": "stderr",
          "text": [
            "<ipython-input-7-7d7278b01e1d>:51: SettingWithCopyWarning: \n",
            "A value is trying to be set on a copy of a slice from a DataFrame.\n",
            "Try using .loc[row_indexer,col_indexer] = value instead\n",
            "\n",
            "See the caveats in the documentation: https://pandas.pydata.org/pandas-docs/stable/user_guide/indexing.html#returning-a-view-versus-a-copy\n",
            "  valid_rows['비율'] = valid_rows[f'{price_col}_1'] / valid_rows[f'{price_col}_2']\n"
          ]
        },
        {
          "output_type": "stream",
          "name": "stdout",
          "text": [
            "양파(20키로) - 양파(햇)(20키로)의 평균가격(원)에 대한 평균 비율: 1.0163299068965257\n",
            "양파(20키로) - 양파(햇)(20키로)의 평년 평균가격(원)에 대한 평균 비율: nan\n",
            "양파(20키로) - 양파(햇)(20키로)의 거래금액(도매)에 대한 평균 비율: nan\n",
            "양파(20키로) - 양파(햇)(20키로)의 거래금액(산지)에 대한 평균 비율: nan\n"
          ]
        },
        {
          "output_type": "stream",
          "name": "stderr",
          "text": [
            "<ipython-input-7-7d7278b01e1d>:51: SettingWithCopyWarning: \n",
            "A value is trying to be set on a copy of a slice from a DataFrame.\n",
            "Try using .loc[row_indexer,col_indexer] = value instead\n",
            "\n",
            "See the caveats in the documentation: https://pandas.pydata.org/pandas-docs/stable/user_guide/indexing.html#returning-a-view-versus-a-copy\n",
            "  valid_rows['비율'] = valid_rows[f'{price_col}_1'] / valid_rows[f'{price_col}_2']\n"
          ]
        },
        {
          "output_type": "stream",
          "name": "stdout",
          "text": [
            "양파(15키로) - 저장양파(15키로)의 평균가격(원)에 대한 평균 비율: 0.986820939312759\n",
            "양파(15키로) - 저장양파(15키로)의 평년 평균가격(원)에 대한 평균 비율: nan\n"
          ]
        },
        {
          "output_type": "stream",
          "name": "stderr",
          "text": [
            "<ipython-input-7-7d7278b01e1d>:51: SettingWithCopyWarning: \n",
            "A value is trying to be set on a copy of a slice from a DataFrame.\n",
            "Try using .loc[row_indexer,col_indexer] = value instead\n",
            "\n",
            "See the caveats in the documentation: https://pandas.pydata.org/pandas-docs/stable/user_guide/indexing.html#returning-a-view-versus-a-copy\n",
            "  valid_rows['비율'] = valid_rows[f'{price_col}_1'] / valid_rows[f'{price_col}_2']\n"
          ]
        },
        {
          "output_type": "stream",
          "name": "stdout",
          "text": [
            "양파(15키로) - 저장양파(15키로)의 거래금액(도매)에 대한 평균 비율: 1.0127648120264356\n",
            "양파(15키로) - 저장양파(15키로)의 거래금액(산지)에 대한 평균 비율: nan\n"
          ]
        },
        {
          "output_type": "stream",
          "name": "stderr",
          "text": [
            "<ipython-input-7-7d7278b01e1d>:51: SettingWithCopyWarning: \n",
            "A value is trying to be set on a copy of a slice from a DataFrame.\n",
            "Try using .loc[row_indexer,col_indexer] = value instead\n",
            "\n",
            "See the caveats in the documentation: https://pandas.pydata.org/pandas-docs/stable/user_guide/indexing.html#returning-a-view-versus-a-copy\n",
            "  valid_rows['비율'] = valid_rows[f'{price_col}_1'] / valid_rows[f'{price_col}_2']\n"
          ]
        },
        {
          "output_type": "stream",
          "name": "stdout",
          "text": [
            "양파(12키로) - 저장양파(12키로)의 평균가격(원)에 대한 평균 비율: 0.9828012399993006\n",
            "양파(12키로) - 저장양파(12키로)의 평년 평균가격(원)에 대한 평균 비율: nan\n"
          ]
        },
        {
          "output_type": "stream",
          "name": "stderr",
          "text": [
            "<ipython-input-7-7d7278b01e1d>:51: SettingWithCopyWarning: \n",
            "A value is trying to be set on a copy of a slice from a DataFrame.\n",
            "Try using .loc[row_indexer,col_indexer] = value instead\n",
            "\n",
            "See the caveats in the documentation: https://pandas.pydata.org/pandas-docs/stable/user_guide/indexing.html#returning-a-view-versus-a-copy\n",
            "  valid_rows['비율'] = valid_rows[f'{price_col}_1'] / valid_rows[f'{price_col}_2']\n"
          ]
        },
        {
          "output_type": "stream",
          "name": "stdout",
          "text": [
            "양파(12키로) - 저장양파(12키로)의 거래금액(도매)에 대한 평균 비율: 1.0127648120264356\n",
            "양파(12키로) - 저장양파(12키로)의 거래금액(산지)에 대한 평균 비율: nan\n"
          ]
        },
        {
          "output_type": "stream",
          "name": "stderr",
          "text": [
            "<ipython-input-7-7d7278b01e1d>:51: SettingWithCopyWarning: \n",
            "A value is trying to be set on a copy of a slice from a DataFrame.\n",
            "Try using .loc[row_indexer,col_indexer] = value instead\n",
            "\n",
            "See the caveats in the documentation: https://pandas.pydata.org/pandas-docs/stable/user_guide/indexing.html#returning-a-view-versus-a-copy\n",
            "  valid_rows['비율'] = valid_rows[f'{price_col}_1'] / valid_rows[f'{price_col}_2']\n"
          ]
        },
        {
          "output_type": "stream",
          "name": "stdout",
          "text": [
            "양파(20키로) - 저장양파(20키로)의 평균가격(원)에 대한 평균 비율: 1.0302494728949079\n",
            "양파(20키로) - 저장양파(20키로)의 평년 평균가격(원)에 대한 평균 비율: nan\n"
          ]
        },
        {
          "output_type": "stream",
          "name": "stderr",
          "text": [
            "<ipython-input-7-7d7278b01e1d>:51: SettingWithCopyWarning: \n",
            "A value is trying to be set on a copy of a slice from a DataFrame.\n",
            "Try using .loc[row_indexer,col_indexer] = value instead\n",
            "\n",
            "See the caveats in the documentation: https://pandas.pydata.org/pandas-docs/stable/user_guide/indexing.html#returning-a-view-versus-a-copy\n",
            "  valid_rows['비율'] = valid_rows[f'{price_col}_1'] / valid_rows[f'{price_col}_2']\n"
          ]
        },
        {
          "output_type": "stream",
          "name": "stdout",
          "text": [
            "양파(20키로) - 저장양파(20키로)의 거래금액(도매)에 대한 평균 비율: 1.0127648120264356\n",
            "양파(20키로) - 저장양파(20키로)의 거래금액(산지)에 대한 평균 비율: nan\n",
            "양파(12키로) - 조생양파(12키로)의 평균가격(원)에 대한 평균 비율: nan\n",
            "양파(12키로) - 조생양파(12키로)의 평년 평균가격(원)에 대한 평균 비율: nan\n"
          ]
        },
        {
          "output_type": "stream",
          "name": "stderr",
          "text": [
            "<ipython-input-7-7d7278b01e1d>:51: SettingWithCopyWarning: \n",
            "A value is trying to be set on a copy of a slice from a DataFrame.\n",
            "Try using .loc[row_indexer,col_indexer] = value instead\n",
            "\n",
            "See the caveats in the documentation: https://pandas.pydata.org/pandas-docs/stable/user_guide/indexing.html#returning-a-view-versus-a-copy\n",
            "  valid_rows['비율'] = valid_rows[f'{price_col}_1'] / valid_rows[f'{price_col}_2']\n"
          ]
        },
        {
          "output_type": "stream",
          "name": "stdout",
          "text": [
            "양파(12키로) - 조생양파(12키로)의 거래금액(도매)에 대한 평균 비율: 1.9653287456987445\n"
          ]
        },
        {
          "output_type": "stream",
          "name": "stderr",
          "text": [
            "<ipython-input-7-7d7278b01e1d>:51: SettingWithCopyWarning: \n",
            "A value is trying to be set on a copy of a slice from a DataFrame.\n",
            "Try using .loc[row_indexer,col_indexer] = value instead\n",
            "\n",
            "See the caveats in the documentation: https://pandas.pydata.org/pandas-docs/stable/user_guide/indexing.html#returning-a-view-versus-a-copy\n",
            "  valid_rows['비율'] = valid_rows[f'{price_col}_1'] / valid_rows[f'{price_col}_2']\n"
          ]
        },
        {
          "output_type": "stream",
          "name": "stdout",
          "text": [
            "양파(12키로) - 조생양파(12키로)의 거래금액(산지)에 대한 평균 비율: nan\n",
            "양파(15키로) - 조생양파(15키로)의 평균가격(원)에 대한 평균 비율: nan\n",
            "양파(15키로) - 조생양파(15키로)의 평년 평균가격(원)에 대한 평균 비율: nan\n"
          ]
        },
        {
          "output_type": "stream",
          "name": "stderr",
          "text": [
            "<ipython-input-7-7d7278b01e1d>:51: SettingWithCopyWarning: \n",
            "A value is trying to be set on a copy of a slice from a DataFrame.\n",
            "Try using .loc[row_indexer,col_indexer] = value instead\n",
            "\n",
            "See the caveats in the documentation: https://pandas.pydata.org/pandas-docs/stable/user_guide/indexing.html#returning-a-view-versus-a-copy\n",
            "  valid_rows['비율'] = valid_rows[f'{price_col}_1'] / valid_rows[f'{price_col}_2']\n"
          ]
        },
        {
          "output_type": "stream",
          "name": "stdout",
          "text": [
            "양파(15키로) - 조생양파(15키로)의 거래금액(도매)에 대한 평균 비율: 1.965328745698744\n"
          ]
        },
        {
          "output_type": "stream",
          "name": "stderr",
          "text": [
            "<ipython-input-7-7d7278b01e1d>:51: SettingWithCopyWarning: \n",
            "A value is trying to be set on a copy of a slice from a DataFrame.\n",
            "Try using .loc[row_indexer,col_indexer] = value instead\n",
            "\n",
            "See the caveats in the documentation: https://pandas.pydata.org/pandas-docs/stable/user_guide/indexing.html#returning-a-view-versus-a-copy\n",
            "  valid_rows['비율'] = valid_rows[f'{price_col}_1'] / valid_rows[f'{price_col}_2']\n"
          ]
        },
        {
          "output_type": "stream",
          "name": "stdout",
          "text": [
            "양파(15키로) - 조생양파(15키로)의 거래금액(산지)에 대한 평균 비율: nan\n"
          ]
        },
        {
          "output_type": "stream",
          "name": "stderr",
          "text": [
            "<ipython-input-7-7d7278b01e1d>:51: SettingWithCopyWarning: \n",
            "A value is trying to be set on a copy of a slice from a DataFrame.\n",
            "Try using .loc[row_indexer,col_indexer] = value instead\n",
            "\n",
            "See the caveats in the documentation: https://pandas.pydata.org/pandas-docs/stable/user_guide/indexing.html#returning-a-view-versus-a-copy\n",
            "  valid_rows['비율'] = valid_rows[f'{price_col}_1'] / valid_rows[f'{price_col}_2']\n"
          ]
        },
        {
          "output_type": "stream",
          "name": "stdout",
          "text": [
            "감자 수미(20키로상자) - 감자(20키로상자)의 평균가격(원)에 대한 평균 비율: 0.9923248468502819\n",
            "감자 수미(20키로상자) - 감자(20키로상자)의 평년 평균가격(원)에 대한 평균 비율: nan\n",
            "감자 수미(20키로상자) - 감자(20키로상자)의 거래금액(도매)에 대한 평균 비율: nan\n",
            "감자 수미(20키로상자) - 감자(20키로상자)의 거래금액(산지)에 대한 평균 비율: nan\n"
          ]
        },
        {
          "output_type": "stream",
          "name": "stderr",
          "text": [
            "<ipython-input-7-7d7278b01e1d>:51: SettingWithCopyWarning: \n",
            "A value is trying to be set on a copy of a slice from a DataFrame.\n",
            "Try using .loc[row_indexer,col_indexer] = value instead\n",
            "\n",
            "See the caveats in the documentation: https://pandas.pydata.org/pandas-docs/stable/user_guide/indexing.html#returning-a-view-versus-a-copy\n",
            "  valid_rows['비율'] = valid_rows[f'{price_col}_1'] / valid_rows[f'{price_col}_2']\n"
          ]
        },
        {
          "output_type": "stream",
          "name": "stdout",
          "text": [
            "감자 수미(20키로상자) - 감자 대지(20키로상자)의 평균가격(원)에 대한 평균 비율: 1.1048354965602276\n"
          ]
        },
        {
          "output_type": "stream",
          "name": "stderr",
          "text": [
            "<ipython-input-7-7d7278b01e1d>:51: SettingWithCopyWarning: \n",
            "A value is trying to be set on a copy of a slice from a DataFrame.\n",
            "Try using .loc[row_indexer,col_indexer] = value instead\n",
            "\n",
            "See the caveats in the documentation: https://pandas.pydata.org/pandas-docs/stable/user_guide/indexing.html#returning-a-view-versus-a-copy\n",
            "  valid_rows['비율'] = valid_rows[f'{price_col}_1'] / valid_rows[f'{price_col}_2']\n"
          ]
        },
        {
          "output_type": "stream",
          "name": "stdout",
          "text": [
            "감자 수미(20키로상자) - 감자 대지(20키로상자)의 평년 평균가격(원)에 대한 평균 비율: 0.9040828790458416\n",
            "감자 수미(20키로상자) - 감자 대지(20키로상자)의 거래금액(도매)에 대한 평균 비율: nan\n",
            "감자 수미(20키로상자) - 감자 대지(20키로상자)의 거래금액(산지)에 대한 평균 비율: nan\n"
          ]
        },
        {
          "output_type": "stream",
          "name": "stderr",
          "text": [
            "<ipython-input-7-7d7278b01e1d>:51: SettingWithCopyWarning: \n",
            "A value is trying to be set on a copy of a slice from a DataFrame.\n",
            "Try using .loc[row_indexer,col_indexer] = value instead\n",
            "\n",
            "See the caveats in the documentation: https://pandas.pydata.org/pandas-docs/stable/user_guide/indexing.html#returning-a-view-versus-a-copy\n",
            "  valid_rows['비율'] = valid_rows[f'{price_col}_1'] / valid_rows[f'{price_col}_2']\n"
          ]
        },
        {
          "output_type": "stream",
          "name": "stdout",
          "text": [
            "감자 수미(20키로상자) - 감자 두백(20키로상자)의 평균가격(원)에 대한 평균 비율: 1.2608619836234245\n",
            "감자 수미(20키로상자) - 감자 두백(20키로상자)의 평년 평균가격(원)에 대한 평균 비율: nan\n",
            "감자 수미(20키로상자) - 감자 두백(20키로상자)의 거래금액(도매)에 대한 평균 비율: nan\n",
            "감자 수미(20키로상자) - 감자 두백(20키로상자)의 거래금액(산지)에 대한 평균 비율: nan\n"
          ]
        },
        {
          "output_type": "stream",
          "name": "stderr",
          "text": [
            "<ipython-input-7-7d7278b01e1d>:51: SettingWithCopyWarning: \n",
            "A value is trying to be set on a copy of a slice from a DataFrame.\n",
            "Try using .loc[row_indexer,col_indexer] = value instead\n",
            "\n",
            "See the caveats in the documentation: https://pandas.pydata.org/pandas-docs/stable/user_guide/indexing.html#returning-a-view-versus-a-copy\n",
            "  valid_rows['비율'] = valid_rows[f'{price_col}_1'] / valid_rows[f'{price_col}_2']\n"
          ]
        },
        {
          "output_type": "stream",
          "name": "stdout",
          "text": [
            "감자 수미(20키로상자) - 감자 수미(저장)(20키로상자)의 평균가격(원)에 대한 평균 비율: 1.5806598057329566\n",
            "감자 수미(20키로상자) - 감자 수미(저장)(20키로상자)의 평년 평균가격(원)에 대한 평균 비율: nan\n",
            "감자 수미(20키로상자) - 감자 수미(저장)(20키로상자)의 거래금액(도매)에 대한 평균 비율: nan\n",
            "감자 수미(20키로상자) - 감자 수미(저장)(20키로상자)의 거래금액(산지)에 대한 평균 비율: nan\n"
          ]
        },
        {
          "output_type": "stream",
          "name": "stderr",
          "text": [
            "<ipython-input-7-7d7278b01e1d>:51: SettingWithCopyWarning: \n",
            "A value is trying to be set on a copy of a slice from a DataFrame.\n",
            "Try using .loc[row_indexer,col_indexer] = value instead\n",
            "\n",
            "See the caveats in the documentation: https://pandas.pydata.org/pandas-docs/stable/user_guide/indexing.html#returning-a-view-versus-a-copy\n",
            "  valid_rows['비율'] = valid_rows[f'{price_col}_1'] / valid_rows[f'{price_col}_2']\n"
          ]
        },
        {
          "output_type": "stream",
          "name": "stdout",
          "text": [
            "감자 수미(20키로상자) - 감자 수미(햇)(20키로상자)의 평균가격(원)에 대한 평균 비율: 0.9121147756175639\n",
            "감자 수미(20키로상자) - 감자 수미(햇)(20키로상자)의 평년 평균가격(원)에 대한 평균 비율: nan\n",
            "감자 수미(20키로상자) - 감자 수미(햇)(20키로상자)의 거래금액(도매)에 대한 평균 비율: nan\n",
            "감자 수미(20키로상자) - 감자 수미(햇)(20키로상자)의 거래금액(산지)에 대한 평균 비율: nan\n",
            "감자 수미(20키로상자) - 감자 수입(23키로상자)의 평균가격(원)에 대한 평균 비율: nan\n",
            "감자 수미(20키로상자) - 감자 수입(23키로상자)의 평년 평균가격(원)에 대한 평균 비율: nan\n",
            "감자 수미(20키로상자) - 감자 수입(23키로상자)의 거래금액(도매)에 대한 평균 비율: nan\n",
            "감자 수미(20키로상자) - 감자 수입(23키로상자)의 거래금액(산지)에 대한 평균 비율: nan\n",
            "감자 수미(20키로상자) - 감자 조풍(20키로상자)의 평균가격(원)에 대한 평균 비율: nan\n",
            "감자 수미(20키로상자) - 감자 조풍(20키로상자)의 평년 평균가격(원)에 대한 평균 비율: nan\n",
            "감자 수미(20키로상자) - 감자 조풍(20키로상자)의 거래금액(도매)에 대한 평균 비율: nan\n",
            "감자 수미(20키로상자) - 감자 조풍(20키로상자)의 거래금액(산지)에 대한 평균 비율: nan\n",
            "감자 수미(20키로상자) - 홍감자(10키로상자)의 평균가격(원)에 대한 평균 비율: nan\n",
            "감자 수미(20키로상자) - 홍감자(10키로상자)의 평년 평균가격(원)에 대한 평균 비율: nan\n",
            "감자 수미(20키로상자) - 홍감자(10키로상자)의 거래금액(도매)에 대한 평균 비율: nan\n",
            "감자 수미(20키로상자) - 홍감자(10키로상자)의 거래금액(산지)에 대한 평균 비율: nan\n"
          ]
        },
        {
          "output_type": "stream",
          "name": "stderr",
          "text": [
            "<ipython-input-7-7d7278b01e1d>:51: SettingWithCopyWarning: \n",
            "A value is trying to be set on a copy of a slice from a DataFrame.\n",
            "Try using .loc[row_indexer,col_indexer] = value instead\n",
            "\n",
            "See the caveats in the documentation: https://pandas.pydata.org/pandas-docs/stable/user_guide/indexing.html#returning-a-view-versus-a-copy\n",
            "  valid_rows['비율'] = valid_rows[f'{price_col}_1'] / valid_rows[f'{price_col}_2']\n"
          ]
        },
        {
          "output_type": "stream",
          "name": "stdout",
          "text": [
            "화건(30 kg) - 햇산화건(30 kg)의 평균가격(원)에 대한 평균 비율: 0.9654622534274167\n"
          ]
        },
        {
          "output_type": "stream",
          "name": "stderr",
          "text": [
            "<ipython-input-7-7d7278b01e1d>:51: SettingWithCopyWarning: \n",
            "A value is trying to be set on a copy of a slice from a DataFrame.\n",
            "Try using .loc[row_indexer,col_indexer] = value instead\n",
            "\n",
            "See the caveats in the documentation: https://pandas.pydata.org/pandas-docs/stable/user_guide/indexing.html#returning-a-view-versus-a-copy\n",
            "  valid_rows['비율'] = valid_rows[f'{price_col}_1'] / valid_rows[f'{price_col}_2']\n"
          ]
        },
        {
          "output_type": "stream",
          "name": "stdout",
          "text": [
            "화건(30 kg) - 햇산화건(30 kg)의 평년 평균가격(원)에 대한 평균 비율: 0.8808685236578921\n",
            "화건(30 kg) - 햇산화건(30 kg)의 거래금액(도매)에 대한 평균 비율: nan\n",
            "화건(30 kg) - 햇산화건(30 kg)의 거래금액(산지)에 대한 평균 비율: nan\n"
          ]
        },
        {
          "output_type": "stream",
          "name": "stderr",
          "text": [
            "<ipython-input-7-7d7278b01e1d>:51: SettingWithCopyWarning: \n",
            "A value is trying to be set on a copy of a slice from a DataFrame.\n",
            "Try using .loc[row_indexer,col_indexer] = value instead\n",
            "\n",
            "See the caveats in the documentation: https://pandas.pydata.org/pandas-docs/stable/user_guide/indexing.html#returning-a-view-versus-a-copy\n",
            "  valid_rows['비율'] = valid_rows[f'{price_col}_1'] / valid_rows[f'{price_col}_2']\n"
          ]
        },
        {
          "output_type": "stream",
          "name": "stdout",
          "text": [
            "양건(30 kg) - 햇산양건(30 kg)의 평균가격(원)에 대한 평균 비율: 1.0082541966470189\n"
          ]
        },
        {
          "output_type": "stream",
          "name": "stderr",
          "text": [
            "<ipython-input-7-7d7278b01e1d>:51: SettingWithCopyWarning: \n",
            "A value is trying to be set on a copy of a slice from a DataFrame.\n",
            "Try using .loc[row_indexer,col_indexer] = value instead\n",
            "\n",
            "See the caveats in the documentation: https://pandas.pydata.org/pandas-docs/stable/user_guide/indexing.html#returning-a-view-versus-a-copy\n",
            "  valid_rows['비율'] = valid_rows[f'{price_col}_1'] / valid_rows[f'{price_col}_2']\n"
          ]
        },
        {
          "output_type": "stream",
          "name": "stdout",
          "text": [
            "양건(30 kg) - 햇산양건(30 kg)의 평년 평균가격(원)에 대한 평균 비율: 0.874414879991624\n",
            "양건(30 kg) - 햇산양건(30 kg)의 거래금액(도매)에 대한 평균 비율: nan\n",
            "양건(30 kg) - 햇산양건(30 kg)의 거래금액(산지)에 대한 평균 비율: nan\n",
            "실파(20키로) - 쪽파(10키로상자)의 평균가격(원)에 대한 평균 비율: nan\n",
            "실파(20키로) - 쪽파(10키로상자)의 평년 평균가격(원)에 대한 평균 비율: nan\n",
            "실파(20키로) - 쪽파(10키로상자)의 거래금액(도매)에 대한 평균 비율: nan\n",
            "실파(20키로) - 쪽파(10키로상자)의 거래금액(산지)에 대한 평균 비율: nan\n",
            "쪽파(10키로상자) - 대파 수입(10키로묶음)의 평균가격(원)에 대한 평균 비율: nan\n",
            "쪽파(10키로상자) - 대파 수입(10키로묶음)의 평년 평균가격(원)에 대한 평균 비율: nan\n",
            "쪽파(10키로상자) - 대파 수입(10키로묶음)의 거래금액(도매)에 대한 평균 비율: nan\n",
            "쪽파(10키로상자) - 대파 수입(10키로묶음)의 거래금액(산지)에 대한 평균 비율: nan\n",
            "쪽파(10키로상자) - 대파(일반)(10키로묶음)의 평균가격(원)에 대한 평균 비율: nan\n",
            "쪽파(10키로상자) - 대파(일반)(10키로묶음)의 평년 평균가격(원)에 대한 평균 비율: nan\n",
            "쪽파(10키로상자) - 대파(일반)(10키로묶음)의 거래금액(도매)에 대한 평균 비율: nan\n",
            "쪽파(10키로상자) - 대파(일반)(10키로묶음)의 거래금액(산지)에 대한 평균 비율: nan\n",
            "쪽파(10키로상자) - 대파(일반)(1키로단)의 평균가격(원)에 대한 평균 비율: nan\n",
            "쪽파(10키로상자) - 대파(일반)(1키로단)의 평년 평균가격(원)에 대한 평균 비율: nan\n",
            "쪽파(10키로상자) - 대파(일반)(1키로단)의 거래금액(도매)에 대한 평균 비율: nan\n",
            "쪽파(10키로상자) - 대파(일반)(1키로단)의 거래금액(산지)에 대한 평균 비율: nan\n",
            "무(20키로상자) - 무(18키로상자(비닐포))의 평균가격(원)에 대한 평균 비율: nan\n",
            "무(20키로상자) - 무(18키로상자(비닐포))의 평년 평균가격(원)에 대한 평균 비율: nan\n",
            "무(20키로상자) - 무(18키로상자(비닐포))의 거래금액(도매)에 대한 평균 비율: nan\n",
            "무(20키로상자) - 무(18키로상자(비닐포))의 거래금액(산지)에 대한 평균 비율: nan\n",
            "무(20키로상자) - 다발무(5톤트럭)의 평균가격(원)에 대한 평균 비율: nan\n",
            "무(20키로상자) - 다발무(5톤트럭)의 평년 평균가격(원)에 대한 평균 비율: nan\n",
            "무(20키로상자) - 다발무(5톤트럭)의 거래금액(도매)에 대한 평균 비율: nan\n",
            "무(20키로상자) - 다발무(5톤트럭)의 거래금액(산지)에 대한 평균 비율: nan\n"
          ]
        },
        {
          "output_type": "stream",
          "name": "stderr",
          "text": [
            "<ipython-input-7-7d7278b01e1d>:51: SettingWithCopyWarning: \n",
            "A value is trying to be set on a copy of a slice from a DataFrame.\n",
            "Try using .loc[row_indexer,col_indexer] = value instead\n",
            "\n",
            "See the caveats in the documentation: https://pandas.pydata.org/pandas-docs/stable/user_guide/indexing.html#returning-a-view-versus-a-copy\n",
            "  valid_rows['비율'] = valid_rows[f'{price_col}_1'] / valid_rows[f'{price_col}_2']\n"
          ]
        },
        {
          "output_type": "stream",
          "name": "stdout",
          "text": [
            "신고(10 개) - 원황(10 개)의 평균가격(원)에 대한 평균 비율: 1.1758088299823126\n"
          ]
        },
        {
          "output_type": "stream",
          "name": "stderr",
          "text": [
            "<ipython-input-7-7d7278b01e1d>:51: SettingWithCopyWarning: \n",
            "A value is trying to be set on a copy of a slice from a DataFrame.\n",
            "Try using .loc[row_indexer,col_indexer] = value instead\n",
            "\n",
            "See the caveats in the documentation: https://pandas.pydata.org/pandas-docs/stable/user_guide/indexing.html#returning-a-view-versus-a-copy\n",
            "  valid_rows['비율'] = valid_rows[f'{price_col}_1'] / valid_rows[f'{price_col}_2']\n"
          ]
        },
        {
          "output_type": "stream",
          "name": "stdout",
          "text": [
            "신고(10 개) - 원황(10 개)의 평년 평균가격(원)에 대한 평균 비율: 1.2324696351273512\n"
          ]
        },
        {
          "output_type": "stream",
          "name": "stderr",
          "text": [
            "<ipython-input-7-7d7278b01e1d>:51: SettingWithCopyWarning: \n",
            "A value is trying to be set on a copy of a slice from a DataFrame.\n",
            "Try using .loc[row_indexer,col_indexer] = value instead\n",
            "\n",
            "See the caveats in the documentation: https://pandas.pydata.org/pandas-docs/stable/user_guide/indexing.html#returning-a-view-versus-a-copy\n",
            "  valid_rows['비율'] = valid_rows[f'{price_col}_1'] / valid_rows[f'{price_col}_2']\n"
          ]
        },
        {
          "output_type": "stream",
          "name": "stdout",
          "text": [
            "신고(10 개) - 원황(10 개)의 거래금액(도매)에 대한 평균 비율: 1.5413807055690891\n",
            "신고(10 개) - 원황(10 개)의 거래금액(산지)에 대한 평균 비율: nan\n",
            "봄동배추(15키로상자) - 절임배추(20키로상자)의 평균가격(원)에 대한 평균 비율: nan\n",
            "봄동배추(15키로상자) - 절임배추(20키로상자)의 평년 평균가격(원)에 대한 평균 비율: nan\n",
            "봄동배추(15키로상자) - 절임배추(20키로상자)의 거래금액(도매)에 대한 평균 비율: nan\n",
            "봄동배추(15키로상자) - 절임배추(20키로상자)의 거래금액(산지)에 대한 평균 비율: nan\n",
            "쌈배추(8키로상자) - 쌈배추(1키로상자)의 평균가격(원)에 대한 평균 비율: nan\n",
            "쌈배추(8키로상자) - 쌈배추(1키로상자)의 평년 평균가격(원)에 대한 평균 비율: nan\n",
            "쌈배추(8키로상자) - 쌈배추(1키로상자)의 거래금액(도매)에 대한 평균 비율: nan\n",
            "쌈배추(8키로상자) - 쌈배추(1키로상자)의 거래금액(산지)에 대한 평균 비율: nan\n",
            "얼갈이배추(4키로상자) - 얼갈이배추(8키로상자)의 평균가격(원)에 대한 평균 비율: nan\n",
            "얼갈이배추(4키로상자) - 얼갈이배추(8키로상자)의 평년 평균가격(원)에 대한 평균 비율: nan\n",
            "얼갈이배추(4키로상자) - 얼갈이배추(8키로상자)의 거래금액(도매)에 대한 평균 비율: nan\n",
            "얼갈이배추(4키로상자) - 얼갈이배추(8키로상자)의 거래금액(산지)에 대한 평균 비율: nan\n"
          ]
        },
        {
          "output_type": "stream",
          "name": "stderr",
          "text": [
            "<ipython-input-7-7d7278b01e1d>:51: SettingWithCopyWarning: \n",
            "A value is trying to be set on a copy of a slice from a DataFrame.\n",
            "Try using .loc[row_indexer,col_indexer] = value instead\n",
            "\n",
            "See the caveats in the documentation: https://pandas.pydata.org/pandas-docs/stable/user_guide/indexing.html#returning-a-view-versus-a-copy\n",
            "  valid_rows['비율'] = valid_rows[f'{price_col}_1'] / valid_rows[f'{price_col}_2']\n"
          ]
        },
        {
          "output_type": "stream",
          "name": "stdout",
          "text": [
            "후지(10 개) - 쓰가루(10 개)의 평균가격(원)에 대한 평균 비율: 1.402595682437155\n"
          ]
        },
        {
          "output_type": "stream",
          "name": "stderr",
          "text": [
            "<ipython-input-7-7d7278b01e1d>:51: SettingWithCopyWarning: \n",
            "A value is trying to be set on a copy of a slice from a DataFrame.\n",
            "Try using .loc[row_indexer,col_indexer] = value instead\n",
            "\n",
            "See the caveats in the documentation: https://pandas.pydata.org/pandas-docs/stable/user_guide/indexing.html#returning-a-view-versus-a-copy\n",
            "  valid_rows['비율'] = valid_rows[f'{price_col}_1'] / valid_rows[f'{price_col}_2']\n"
          ]
        },
        {
          "output_type": "stream",
          "name": "stdout",
          "text": [
            "후지(10 개) - 쓰가루(10 개)의 평년 평균가격(원)에 대한 평균 비율: 1.5405378902819933\n",
            "후지(10 개) - 쓰가루(10 개)의 거래금액(도매)에 대한 평균 비율: nan\n",
            "후지(10 개) - 쓰가루(10 개)의 거래금액(산지)에 대한 평균 비율: nan\n"
          ]
        }
      ]
    },
    {
      "cell_type": "code",
      "source": [
        "import pandas as pd\n",
        "import re\n",
        "\n",
        "# 품종 쌍과 거래단위 설정\n",
        "product_pairs = [\n",
        "    ('다발무', '5톤트럭', '다발무', '10키로'),\n",
        "    ('다발무', '5톤트럭', '다발무', '5000키로'),\n",
        "    ('다발무', '5톤트럭', '다발무', '1000키로'),\n",
        "    ('다발무', '5톤트럭', '다발무', '10키로'),\n",
        "    ('다발무', '5톤트럭', '다발무', '8톤트럭')\n",
        "]\n",
        "\n",
        "# 가격 및 거래단위 컬럼 리스트\n",
        "price_columns = ['평균가격(원)', '평년 평균가격(원)', '거래금액(도매)', '거래금액(산지)']\n",
        "unit_column = '거래단위_숫자'\n",
        "\n",
        "# 0인 값을 대체하는 함수\n",
        "def replace_zero_with_unit_price(row, product_1, unit_1, product_2, unit_2, price_col):\n",
        "    if row['품종명'] == product_1 and row['거래단위'] == unit_1:\n",
        "        # 같은 시점, 등급의 다른 품종과 거래단위의 가격 가져오기\n",
        "        matching_row = merged_sanjae_df[(merged_sanjae_df['시점'] == row['시점']) &\n",
        "                                (merged_sanjae_df['품종명'] == product_2) &\n",
        "                                (merged_sanjae_df['등급'] == row['등급']) &\n",
        "                                (merged_sanjae_df['거래단위'] == unit_2)]\n",
        "        if not matching_row.empty:\n",
        "            other_price = matching_row[price_col].values[0]\n",
        "            if row[price_col] == 0 and other_price != 0:\n",
        "                # 첫 번째 품종의 가격이 0이면 두 번째 품종의 가격에 거래단위_숫자를 곱해 단위가격으로 대체\n",
        "                row[price_col] = other_price * row['거래단위_숫자'] / matching_row['거래단위_숫자'].values[0]\n",
        "    elif row['품종명'] == product_2 and row['거래단위'] == unit_2:\n",
        "        # 같은 시점, 등급의 첫 번째 품종과 거래단위의 가격 가져오기\n",
        "        matching_row = merged_sanjae_df[(merged_sanjae_df['시점'] == row['시점']) &\n",
        "                                (merged_sanjae_df['품종명'] == product_1) &\n",
        "                                (merged_sanjae_df['등급'] == row['등급']) &\n",
        "                                (merged_sanjae_df['거래단위'] == unit_1)]\n",
        "        if not matching_row.empty:\n",
        "            other_price = matching_row[price_col].values[0]\n",
        "            if row[price_col] == 0 and other_price != 0:\n",
        "                # 두 번째 품종의 가격이 0이면 첫 번째 품종의 단위가격을 대체\n",
        "                row[price_col] = (other_price / matching_row['거래단위_숫자'].values[0]) * row['거래단위_숫자']\n",
        "    return row\n",
        "\n",
        "# 각 품종 쌍과 가격 컬럼에 대해 처리 적용\n",
        "for product_1, unit_1, product_2, unit_2 in product_pairs:\n",
        "    for price_col in price_columns:\n",
        "        # 0인 값을 단위가격으로 대체\n",
        "        merged_sanjae_df = merged_sanjae_df.apply(replace_zero_with_unit_price, axis=1,\n",
        "                                  product_1=product_1, unit_1=unit_1,\n",
        "                                  product_2=product_2, unit_2=unit_2, price_col=price_col)\n"
      ],
      "metadata": {
        "id": "8X5QQ53p6Xly"
      },
      "execution_count": 8,
      "outputs": []
    },
    {
      "cell_type": "code",
      "source": [
        "merged_sanjae_df['평균가격(원)'] = merged_sanjae_df['평균가격(원)'].fillna(0)\n",
        "merged_sanjae_df['평균가격(원)'] = merged_sanjae_df['평균가격(원)'].apply(lambda x: 0 if x == 0 or pd.isna(x) else x)\n",
        "\n",
        "merged_sanjae_df['평년 평균가격(원)'] = merged_sanjae_df['평년 평균가격(원)'].fillna(0)\n",
        "merged_sanjae_df['평년 평균가격(원)'] = merged_sanjae_df['평년 평균가격(원)'].apply(lambda x: 0 if x == 0 or pd.isna(x) else x)\n",
        "\n",
        "merged_sanjae_df['거래금액(도매)'] = merged_sanjae_df['거래금액(도매)'].fillna(0)\n",
        "merged_sanjae_df['거래금액(도매)'] = merged_sanjae_df['거래금액(도매)'].apply(lambda x: 0 if x == 0 or pd.isna(x) else x)\n",
        "\n",
        "merged_sanjae_df['거래금액(산지)'] = merged_sanjae_df['거래금액(산지)'].fillna(0)\n",
        "merged_sanjae_df['거래금액(산지)'] = merged_sanjae_df['거래금액(산지)'].apply(lambda x: 0 if x == 0 or pd.isna(x) else x)"
      ],
      "metadata": {
        "id": "-iAnNlj_6bDL"
      },
      "execution_count": 9,
      "outputs": []
    },
    {
      "cell_type": "code",
      "source": [
        "# 필요한 열만 선택하여 새로운 데이터프레임 생성\n",
        "columns_to_keep = ['시점', '품목명', '품종명', '등급', '거래단위', '평년 평균가격(원)', '평균가격(원)', '거래금액(도매)', '거래금액(산지)']\n",
        "filtered_sanjae_df = merged_sanjae_df[columns_to_keep]"
      ],
      "metadata": {
        "id": "tx1wiqYu8bCy"
      },
      "execution_count": 16,
      "outputs": []
    },
    {
      "cell_type": "code",
      "source": [
        "# 수정된 데이터를 새로운 CSV 파일로 저장 (UTF-8-SIG 인코딩 사용)\n",
        "output_file_path = './train_meta_v1.csv'\n",
        "filtered_sanjae_df.to_csv(output_file_path, index=False, encoding='utf-8-sig')"
      ],
      "metadata": {
        "id": "JsaIpNSj7eJi"
      },
      "execution_count": 17,
      "outputs": []
    },
    {
      "cell_type": "code",
      "source": [
        "import pandas as pd\n",
        "\n",
        "# 데이터 불러오기\n",
        "train_meta_v1_df = pd.read_csv('./train_meta_v1.csv')\n",
        "\n",
        "# 필터링할 조건 설정 (행별로 조건을 각각 명시)\n",
        "condition_1 = (\n",
        "    (train_meta_v1_df['품목명'] == '건고추') &\n",
        "    (train_meta_v1_df['품종명'] == '화건') &\n",
        "    (train_meta_v1_df['거래단위'] == '30 kg') &\n",
        "    (train_meta_v1_df['등급'] == '상품')\n",
        ")\n",
        "\n",
        "condition_2 = (\n",
        "    (train_meta_v1_df['품목명'] == '사과') &\n",
        "    (train_meta_v1_df['품종명'].isin(['홍로', '후지'])) &\n",
        "    (train_meta_v1_df['거래단위'] == '10 개') &\n",
        "    (train_meta_v1_df['등급'] == '상품')\n",
        ")\n",
        "\n",
        "condition_3 = (\n",
        "    (train_meta_v1_df['품목명'] == '감자') &\n",
        "    (train_meta_v1_df['품종명'] == '감자 수미') &\n",
        "    (train_meta_v1_df['거래단위'] == '20키로상자') &\n",
        "    (train_meta_v1_df['등급'] == '상')\n",
        ")\n",
        "\n",
        "condition_4 = (\n",
        "    (train_meta_v1_df['품목명'] == '배') &\n",
        "    (train_meta_v1_df['품종명'] == '신고') &\n",
        "    (train_meta_v1_df['거래단위'] == '10 개') &\n",
        "    (train_meta_v1_df['등급'] == '상품')\n",
        ")\n",
        "\n",
        "condition_5 = (\n",
        "    (train_meta_v1_df['품목명'] == '깐마늘(국산)') &\n",
        "    (train_meta_v1_df['품종명'] == '깐마늘(국산)') &\n",
        "    (train_meta_v1_df['거래단위'] == '20 kg') &\n",
        "    (train_meta_v1_df['등급'] == '상품')\n",
        ")\n",
        "\n",
        "condition_6 = (\n",
        "    (train_meta_v1_df['품목명'] == '무') &\n",
        "    (train_meta_v1_df['품종명'] == '무') &\n",
        "    (train_meta_v1_df['거래단위'] == '20키로상자') &\n",
        "    (train_meta_v1_df['등급'] == '상품')\n",
        ")\n",
        "\n",
        "condition_7 = (\n",
        "    (train_meta_v1_df['품목명'] == '상추') &\n",
        "    (train_meta_v1_df['품종명'] == '청') &\n",
        "    (train_meta_v1_df['거래단위'] == '100 g') &\n",
        "    (train_meta_v1_df['등급'] == '상품')\n",
        ")\n",
        "\n",
        "condition_8 = (\n",
        "    (train_meta_v1_df['품목명'] == '배추') &\n",
        "    (train_meta_v1_df['품종명'] == '배추') &\n",
        "    (train_meta_v1_df['거래단위'] == '10키로망대') &\n",
        "    (train_meta_v1_df['등급'] == '상')\n",
        ")\n",
        "\n",
        "condition_9 = (\n",
        "    (train_meta_v1_df['품목명'] == '양파') &\n",
        "    (train_meta_v1_df['품종명'] == '양파') &\n",
        "    (train_meta_v1_df['거래단위'] == '1키로') &\n",
        "    (train_meta_v1_df['등급'] == '상')\n",
        ")\n",
        "\n",
        "condition_10 = (\n",
        "    (train_meta_v1_df['품목명'] == '대파') &\n",
        "    (train_meta_v1_df['품종명'] == '대파(일반)') &\n",
        "    (train_meta_v1_df['거래단위'] == '1키로단') &\n",
        "    (train_meta_v1_df['등급'] == '상')\n",
        ")\n",
        "\n",
        "# 모든 조건을 합치기 (OR로 연결)\n",
        "final_condition = condition_1 | condition_2 | condition_3 | condition_4 | condition_5 | condition_6 | condition_7 | condition_8 | condition_9 | condition_10\n",
        "\n",
        "# 조건에 맞는 데이터 추출\n",
        "filtered_meta_df = train_meta_v1_df[final_condition]"
      ],
      "metadata": {
        "id": "T-X0zdU2FAgV"
      },
      "execution_count": 18,
      "outputs": []
    },
    {
      "cell_type": "code",
      "source": [
        "# 수정된 데이터를 새로운 CSV 파일로 저장 (UTF-8-SIG 인코딩 사용)\n",
        "output_file_path = './train_meta_v1_s.csv'\n",
        "filtered_meta_df.to_csv(output_file_path, index=False, encoding='utf-8-sig')"
      ],
      "metadata": {
        "id": "W1Ps0HzgGEL-"
      },
      "execution_count": 19,
      "outputs": []
    },
    {
      "cell_type": "code",
      "source": [],
      "metadata": {
        "id": "kWjRsu2GGeiA"
      },
      "execution_count": null,
      "outputs": []
    }
  ]
}