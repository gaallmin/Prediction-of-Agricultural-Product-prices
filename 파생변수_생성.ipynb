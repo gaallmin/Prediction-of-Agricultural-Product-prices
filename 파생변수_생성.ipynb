{
  "nbformat": 4,
  "nbformat_minor": 0,
  "metadata": {
    "colab": {
      "provenance": [],
      "authorship_tag": "ABX9TyMM+nT7L17WHn4KHx1Julhc",
      "include_colab_link": true
    },
    "kernelspec": {
      "name": "python3",
      "display_name": "Python 3"
    },
    "language_info": {
      "name": "python"
    }
  },
  "cells": [
    {
      "cell_type": "markdown",
      "metadata": {
        "id": "view-in-github",
        "colab_type": "text"
      },
      "source": [
        "<a href=\"https://colab.research.google.com/github/gaallmin/Prediction-of-Agricultural-Product-prices/blob/yeji/%ED%8C%8C%EC%83%9D%EB%B3%80%EC%88%98_%EC%83%9D%EC%84%B1.ipynb\" target=\"_parent\"><img src=\"https://colab.research.google.com/assets/colab-badge.svg\" alt=\"Open In Colab\"/></a>"
      ]
    },
    {
      "cell_type": "code",
      "execution_count": 1,
      "metadata": {
        "colab": {
          "base_uri": "https://localhost:8080/"
        },
        "id": "dq0ULjqNdho-",
        "outputId": "8cb1489c-efe6-402f-fb20-b2e5b29c2fc4"
      },
      "outputs": [
        {
          "output_type": "stream",
          "name": "stdout",
          "text": [
            "Mounted at /content/drive/\n",
            "/content/drive/MyDrive/Dacon\n"
          ]
        }
      ],
      "source": [
        "from google.colab import drive\n",
        "\n",
        "drive.mount('/content/drive/')\n",
        "%cd /content/drive/MyDrive/Dacon"
      ]
    },
    {
      "cell_type": "code",
      "source": [
        "import pandas as pd\n",
        "import re\n",
        "\n",
        "# CSV 파일 불러오기\n",
        "train_file_path = './train/train.csv'\n",
        "market_file_path = './train/meta/TRAIN_전국도매_2018-2021.csv'\n",
        "sanjae_file_path = './train/meta/TRAIN_산지공판장_2018-2021.csv'\n",
        "\n",
        "train_df = pd.read_csv(train_file_path)\n",
        "market_df = pd.read_csv(market_file_path)\n",
        "sanjae_df = pd.read_csv(sanjae_file_path)\n",
        "\n",
        "# '시장명'이 \"전국도매시장\"인 경우만 필터링\n",
        "market_df = market_df[market_df['시장명'].str.contains('전국도매시장')]\n",
        "\n",
        "# '공판장명'이 \"전국농협공판장\"인 경우만 필터링\n",
        "sanjae_df = sanjae_df[sanjae_df['공판장명'].str.contains('전국농협공판장')]\n",
        "\n",
        "sanjae_df.rename(columns = {'등급명': '등급'}, inplace = True)\n",
        "\n",
        "# 컬럼명 변경 (도매 데이터의 컬럼들에 '(도매)', 산지 데이터의 컬럼들에 '(산지)' 추가)\n",
        "market_columns = market_df.columns.difference(['시점', '품목명', '품종명'])  # 키 컬럼 제외\n",
        "market_renamed = {col: col + ' (도매)' for col in market_columns}\n",
        "\n",
        "sanjae_columns = sanjae_df.columns.difference(['시점', '품목명', '품종명', '등급'])  # 키 컬럼 제외\n",
        "sanjae_renamed = {col: col + ' (산지)' for col in sanjae_columns}\n",
        "\n",
        "# 컬럼명 변경 적용\n",
        "market_df.rename(columns={**market_renamed}, inplace=True)\n",
        "sanjae_df.rename(columns={**sanjae_renamed}, inplace=True)\n",
        "\n",
        "# '시점', '품목명', '품종명' 기준으로 market_df와 left join, '등급명'은 train_df에만 존재\n",
        "merged_df = pd.merge(train_df, market_df, how='left', on=['시점', '품목명', '품종명'])\n",
        "\n",
        "# '시점', '품목명', '품종명', '등급명' 기준으로 sanjae_df와 left join\n",
        "merged_sanjae_df = pd.merge(merged_df, sanjae_df, how='left', on=['시점', '품목명', '품종명', '등급'])\n",
        "\n",
        "# '거래단위'에서 'kg'을 제외한 숫자만 추출하여 새로운 컬럼 '거래단위_숫자' 생성\n",
        "merged_sanjae_df['거래단위_숫자'] = merged_sanjae_df['거래단위'].apply(lambda x: float(re.sub(r'[^0-9.]', ' ', x)))\n",
        "\n",
        "# '거래단위'에서 '5톤트럭'과 '8톤트럭' 처리\n",
        "def process_truck_units(unit):\n",
        "    if '5톤트럭' in unit:\n",
        "        return 5000\n",
        "    elif '8톤트럭' in unit:\n",
        "        return 8000\n",
        "    else:\n",
        "        return float(re.sub(r'[^0-9.]', '', unit))  # 그 외의 경우 숫자만 추출\n",
        "\n",
        "merged_sanjae_df['거래단위_숫자'] = merged_sanjae_df['거래단위'].apply(process_truck_units)\n",
        "\n",
        "# '평균가(원/kg)'와 '거래단위_숫자'를 곱해서 '거래금액(도매)' 및 '거래금액(산지)' 컬럼에 저장\n",
        "merged_sanjae_df['거래금액(도매)'] = merged_sanjae_df['평균가(원/kg) (도매)'] * merged_sanjae_df['거래단위_숫자']\n",
        "merged_sanjae_df['거래금액(산지)'] = merged_sanjae_df['평균가(원/kg) (산지)'] * merged_sanjae_df['거래단위_숫자']\n",
        "\n",
        "# '거래금액(도매)'와 '거래금액(산지)'에서 값이 없거나 0인 경우 0으로 처리\n",
        "merged_sanjae_df['거래금액(도매)'] = merged_sanjae_df['거래금액(도매)'].fillna(0)\n",
        "merged_sanjae_df['거래금액(도매)'] = merged_sanjae_df['거래금액(도매)'].apply(lambda x: 0 if x == 0 or pd.isna(x) else x)\n",
        "\n",
        "merged_sanjae_df['거래금액(산지)'] = merged_sanjae_df['거래금액(산지)'].fillna(0)\n",
        "merged_sanjae_df['거래금액(산지)'] = merged_sanjae_df['거래금액(산지)'].apply(lambda x: 0 if x == 0 or pd.isna(x) else x)\n",
        "\n",
        "# 결과 확인\n",
        "print(merged_sanjae_df[['시점', '품목명', '품종명', '등급', '거래단위', '거래단위_숫자', '평균가(원/kg) (도매)', '거래금액(도매)', '평균가(원/kg) (산지)', '거래금액(산지)']].head())"
      ],
      "metadata": {
        "colab": {
          "base_uri": "https://localhost:8080/"
        },
        "id": "iVdpjxG2iyyw",
        "outputId": "5d62788e-8efc-4581-f0a7-64e06f969d5e"
      },
      "execution_count": 29,
      "outputs": [
        {
          "output_type": "stream",
          "name": "stdout",
          "text": [
            "         시점  품목명 품종명  등급   거래단위  거래단위_숫자  평균가(원/kg) (도매)  거래금액(도매)  \\\n",
            "0  201801상순  건고추  화건  상품  30 kg     30.0             NaN       0.0   \n",
            "1  201801중순  건고추  화건  상품  30 kg     30.0             NaN       0.0   \n",
            "2  201801하순  건고추  화건  상품  30 kg     30.0             NaN       0.0   \n",
            "3  201802상순  건고추  화건  상품  30 kg     30.0             NaN       0.0   \n",
            "4  201802중순  건고추  화건  상품  30 kg     30.0             NaN       0.0   \n",
            "\n",
            "   평균가(원/kg) (산지)  거래금액(산지)  \n",
            "0             NaN       0.0  \n",
            "1             NaN       0.0  \n",
            "2             NaN       0.0  \n",
            "3             NaN       0.0  \n",
            "4             NaN       0.0  \n"
          ]
        },
        {
          "output_type": "stream",
          "name": "stderr",
          "text": [
            "<ipython-input-29-eabfa57526ae>:29: SettingWithCopyWarning: \n",
            "A value is trying to be set on a copy of a slice from a DataFrame\n",
            "\n",
            "See the caveats in the documentation: https://pandas.pydata.org/pandas-docs/stable/user_guide/indexing.html#returning-a-view-versus-a-copy\n",
            "  market_df.rename(columns={**market_renamed}, inplace=True)\n"
          ]
        }
      ]
    },
    {
      "cell_type": "code",
      "source": [
        "# 수정된 데이터를 새로운 CSV 파일로 저장 (UTF-8-SIG 인코딩 사용)\n",
        "output_file_path = './merged_with_transaction_amount.csv'\n",
        "merged_sanjae_df.to_csv(output_file_path, index=False, encoding='utf-8-sig')"
      ],
      "metadata": {
        "id": "yk8e5PiGd2pz"
      },
      "execution_count": 30,
      "outputs": []
    },
    {
      "cell_type": "code",
      "source": [],
      "metadata": {
        "id": "VW9ULwlme3q_"
      },
      "execution_count": null,
      "outputs": []
    }
  ]
}