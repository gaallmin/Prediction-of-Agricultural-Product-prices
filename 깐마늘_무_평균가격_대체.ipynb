{
  "nbformat": 4,
  "nbformat_minor": 0,
  "metadata": {
    "colab": {
      "provenance": [],
      "authorship_tag": "ABX9TyPOO7ZRhGwkr+hqZkr6Oh0X",
      "include_colab_link": true
    },
    "kernelspec": {
      "name": "python3",
      "display_name": "Python 3"
    },
    "language_info": {
      "name": "python"
    }
  },
  "cells": [
    {
      "cell_type": "markdown",
      "metadata": {
        "id": "view-in-github",
        "colab_type": "text"
      },
      "source": [
        "<a href=\"https://colab.research.google.com/github/gaallmin/Prediction-of-Agricultural-Product-prices/blob/yeji/%EA%B9%90%EB%A7%88%EB%8A%98_%EB%AC%B4_%ED%8F%89%EA%B7%A0%EA%B0%80%EA%B2%A9_%EB%8C%80%EC%B2%B4.ipynb\" target=\"_parent\"><img src=\"https://colab.research.google.com/assets/colab-badge.svg\" alt=\"Open In Colab\"/></a>"
      ]
    },
    {
      "cell_type": "code",
      "execution_count": 1,
      "metadata": {
        "colab": {
          "base_uri": "https://localhost:8080/"
        },
        "id": "A3qXLOVVYjkY",
        "outputId": "97f11f1c-ee93-4a40-88b7-684eb94465ac"
      },
      "outputs": [
        {
          "output_type": "stream",
          "name": "stdout",
          "text": [
            "Mounted at /content/drive/\n",
            "/content/drive/MyDrive/Dacon\n"
          ]
        }
      ],
      "source": [
        "from google.colab import drive\n",
        "\n",
        "drive.mount('/content/drive/')\n",
        "%cd /content/drive/MyDrive/Dacon"
      ]
    },
    {
      "cell_type": "code",
      "source": [
        "import pandas as pd\n",
        "\n",
        "df = pd.read_csv(\"./y_v1.csv\")"
      ],
      "metadata": {
        "id": "jchaL5QxYmXE"
      },
      "execution_count": 2,
      "outputs": []
    },
    {
      "cell_type": "code",
      "source": [
        "# 조건을 설정 ('품목명', '품종명', '거래단위', '등급'에 대해)\n",
        "condition = (\n",
        "    (df['품목명'] == '깐마늘(국산)') &\n",
        "    (df['품종명'] == '깐마늘(국산)') &\n",
        "    (df['거래단위'] == '20 kg') &\n",
        "    (df['등급'] == '상품')\n",
        ")\n",
        "\n",
        "# 조건을 만족하는 행에 대해 '평년 평균가격(원)' 값을 '평균가격(원)' 컬럼에 대체\n",
        "df.loc[condition, '평년 평균가격(원)'] = df.loc[condition, '평균가격(원)']"
      ],
      "metadata": {
        "id": "Vb3aTU6hZUVb"
      },
      "execution_count": 3,
      "outputs": []
    },
    {
      "cell_type": "code",
      "source": [
        "# 조건을 설정 ('품목명', '품종명', '거래단위', '등급'에 대해)\n",
        "condition2 = (\n",
        "    (df['품목명'] == '무') &\n",
        "    (df['품종명'] == '무') &\n",
        "    (df['거래단위'] == '20키로상자') &\n",
        "    (df['등급'] == '상')\n",
        ")\n",
        "\n",
        "# 조건을 만족하는 행에 대해 '평년 평균가격(원)' 값을 '평균가격(원)' 컬럼에 대체\n",
        "df.loc[condition2, '평년 평균가격(원)'] = df.loc[condition2, '평균가격(원)']"
      ],
      "metadata": {
        "id": "L8GZ2OmKZ0VT"
      },
      "execution_count": 4,
      "outputs": []
    },
    {
      "cell_type": "code",
      "source": [
        "# 수정된 데이터를 새로운 CSV 파일로 저장 (UTF-8-SIG 인코딩 사용)\n",
        "output_file_path = f'./y_v2.csv'\n",
        "df.to_csv(output_file_path, index=False, encoding='utf-8-sig')"
      ],
      "metadata": {
        "id": "l8d3fjyFZ_Py"
      },
      "execution_count": 5,
      "outputs": []
    },
    {
      "cell_type": "code",
      "source": [],
      "metadata": {
        "id": "C_Av9SUraGvg"
      },
      "execution_count": null,
      "outputs": []
    }
  ]
}